{
 "cells": [
  {
   "cell_type": "markdown",
   "metadata": {},
   "source": [
    "# Module 2"
   ]
  },
  {
   "cell_type": "markdown",
   "metadata": {},
   "source": [
    "### What is a Variable?\n",
    "Variables are used to store information to be referenced and manipulated in a computer program. They also provide a way of labeling data with a descriptive name, Variables can also called a containers that hold information."
   ]
  },
  {
   "cell_type": "markdown",
   "metadata": {},
   "source": [
    "## Exercises: Level 1"
   ]
  },
  {
   "cell_type": "code",
   "execution_count": 19,
   "metadata": {},
   "outputs": [
    {
     "name": "stdout",
     "output_type": "stream",
     "text": [
      "first name: Anthony\n"
     ]
    }
   ],
   "source": [
    "# Declare a first name variable and assign a value to it\n",
    "\n",
    "firstname = 'Anthony'\n",
    "print(f'first name: {firstname}')"
   ]
  },
  {
   "cell_type": "code",
   "execution_count": 5,
   "metadata": {},
   "outputs": [
    {
     "name": "stdout",
     "output_type": "stream",
     "text": [
      "Last Name: Timileyin\n"
     ]
    }
   ],
   "source": [
    "# Declare a last name variable and assign a value to it\n",
    "\n",
    "lastname = 'Timileyin'\n",
    "print(f'Last Name: {lastname}')"
   ]
  },
  {
   "cell_type": "code",
   "execution_count": 20,
   "metadata": {},
   "outputs": [
    {
     "name": "stdout",
     "output_type": "stream",
     "text": [
      "Full Name: Ogundipe Timileyin\n"
     ]
    }
   ],
   "source": [
    "# Declare a full name variable and assign a value to it\n",
    "\n",
    "fullname = 'Ogundipe Timileyin'\n",
    "print(f'Full Name: {fullname}')"
   ]
  },
  {
   "cell_type": "code",
   "execution_count": 21,
   "metadata": {},
   "outputs": [
    {
     "name": "stdout",
     "output_type": "stream",
     "text": [
      "Country: United State\n"
     ]
    }
   ],
   "source": [
    "# Declare a country variable and assign a value to it\n",
    "\n",
    "country = 'United State'\n",
    "print(f'Country: {country}')"
   ]
  },
  {
   "cell_type": "code",
   "execution_count": 22,
   "metadata": {},
   "outputs": [
    {
     "name": "stdout",
     "output_type": "stream",
     "text": [
      "City: New York\n"
     ]
    }
   ],
   "source": [
    "# Declare a city variable and assign a value to it\n",
    "\n",
    "city = 'New York'\n",
    "print(f'City: {city}')"
   ]
  },
  {
   "cell_type": "code",
   "execution_count": 23,
   "metadata": {},
   "outputs": [
    {
     "name": "stdout",
     "output_type": "stream",
     "text": [
      "Age: 24 year old\n"
     ]
    }
   ],
   "source": [
    "# Declare an age variable and assign a value to it\n",
    "\n",
    "age = '24 year old'\n",
    "print(f'Age: {age}')"
   ]
  },
  {
   "cell_type": "code",
   "execution_count": 24,
   "metadata": {},
   "outputs": [
    {
     "name": "stdout",
     "output_type": "stream",
     "text": [
      "Year: 2024\n"
     ]
    }
   ],
   "source": [
    "# Declare a year variable and assign a value to it\n",
    "\n",
    "year = 2024\n",
    "print('Year:', year)"
   ]
  },
  {
   "cell_type": "code",
   "execution_count": 25,
   "metadata": {},
   "outputs": [
    {
     "name": "stdout",
     "output_type": "stream",
     "text": [
      "Married: False\n"
     ]
    }
   ],
   "source": [
    "# Declare a variable is_married and assign a value to it\n",
    "\n",
    "is_married = False\n",
    "print('Married:', is_married)"
   ]
  },
  {
   "cell_type": "code",
   "execution_count": 26,
   "metadata": {},
   "outputs": [
    {
     "name": "stdout",
     "output_type": "stream",
     "text": [
      "True: Single\n"
     ]
    }
   ],
   "source": [
    "# Declare a variable is_true and assign a value to it\n",
    "\n",
    "is_ture = 'Single'\n",
    "print('True:', is_ture)"
   ]
  },
  {
   "cell_type": "code",
   "execution_count": 32,
   "metadata": {},
   "outputs": [
    {
     "name": "stdout",
     "output_type": "stream",
     "text": [
      "Is There Light: True\n"
     ]
    }
   ],
   "source": [
    "# Declare a variable is_light_on and assign a value to it\n",
    "\n",
    "is_light_on = True\n",
    "print('Is There Light:', is_light_on)"
   ]
  },
  {
   "cell_type": "code",
   "execution_count": 30,
   "metadata": {},
   "outputs": [
    {
     "name": "stdout",
     "output_type": "stream",
     "text": [
      "Surname: Ogundipe\n",
      "First Name: Timileyin\n",
      "Last Name: Anthony\n",
      "Country: United State\n",
      "City: New York\n",
      "My Age Is: 24 Year old\n"
     ]
    }
   ],
   "source": [
    "# Declare multiple variable on one line\n",
    "\n",
    "surname, firstname, lastname, country, city, age = 'Ogundipe','Timileyin','Anthony','United State','New York','24 Year old'\n",
    "print('Surname:', surname)\n",
    "print('First Name:', firstname)\n",
    "print('Last Name:', lastname)\n",
    "print('Country:', country)\n",
    "print('City:', city)\n",
    "print('My Age Is:', age)"
   ]
  },
  {
   "cell_type": "markdown",
   "metadata": {},
   "source": [
    "## Exercises: Level 2"
   ]
  },
  {
   "cell_type": "code",
   "execution_count": 37,
   "metadata": {},
   "outputs": [
    {
     "name": "stdout",
     "output_type": "stream",
     "text": [
      "First Name Data Type Is: <class 'str'>\n",
      "Last Name Data Type Is: <class 'str'>\n",
      "Full Name Data Type Is: <class 'str'>\n",
      "Country Data Type Is: <class 'str'>\n",
      "City Data Type Is: <class 'str'>\n",
      "Age Data Type Is: <class 'str'>\n",
      "Year Data Type Is: <class 'int'>\n",
      "Married Data Type Is: <class 'bool'>\n",
      "Ture Data Type Is: <class 'str'>\n",
      "Light Data Type Is: <class 'bool'>\n"
     ]
    }
   ],
   "source": [
    "# Check the data type of all your variables using type() built-in function\n",
    "\n",
    "firstname = 'Anthony'\n",
    "print('First Name Data Type Is:', type(firstname))\n",
    "\n",
    "lastname = 'Timileyin'\n",
    "print('Last Name Data Type Is:', type(lastname))\n",
    "\n",
    "fullname = 'Ogundipe Timileyin'\n",
    "print('Full Name Data Type Is:', type(fullname))\n",
    "\n",
    "country = 'United State'\n",
    "print('Country Data Type Is:', type(country))\n",
    "\n",
    "city = 'New York'\n",
    "print('City Data Type Is:', type(city))\n",
    "\n",
    "age = '24 year old'\n",
    "print('Age Data Type Is:', type(age))\n",
    "\n",
    "year = 2024\n",
    "print('Year Data Type Is:', type(year))\n",
    "\n",
    "is_married = False\n",
    "print('Married Data Type Is:', type(is_married))\n",
    "\n",
    "is_ture = 'Single'\n",
    "print('Ture Data Type Is:', type(is_ture))\n",
    "\n",
    "is_light_on = True\n",
    "print('Light Data Type Is:', type(is_light_on))\n"
   ]
  },
  {
   "cell_type": "code",
   "execution_count": 38,
   "metadata": {},
   "outputs": [
    {
     "name": "stdout",
     "output_type": "stream",
     "text": [
      "First Name Length Is: 7\n"
     ]
    }
   ],
   "source": [
    "# Using the len() built-in function, find the length of your first name\n",
    "\n",
    "firstname = 'Anthony'\n",
    "print('First Name Length Is:', len(firstname))"
   ]
  },
  {
   "cell_type": "code",
   "execution_count": null,
   "metadata": {},
   "outputs": [],
   "source": [
    "# Compare the length of your first name and your last name"
   ]
  },
  {
   "cell_type": "code",
   "execution_count": null,
   "metadata": {},
   "outputs": [],
   "source": [
    "# Declare 5 as num_one and 4 as num_two"
   ]
  },
  {
   "cell_type": "code",
   "execution_count": null,
   "metadata": {},
   "outputs": [],
   "source": [
    "# Add num_one and num_two and assign the value to a variable total"
   ]
  },
  {
   "cell_type": "code",
   "execution_count": null,
   "metadata": {},
   "outputs": [],
   "source": [
    "# Subtract num_two from num_one and assign the value to a variable diff"
   ]
  },
  {
   "cell_type": "code",
   "execution_count": null,
   "metadata": {},
   "outputs": [],
   "source": [
    "# Multiply num_two and num_one and assign the value to a variable product"
   ]
  },
  {
   "cell_type": "code",
   "execution_count": null,
   "metadata": {},
   "outputs": [],
   "source": [
    "# Divide num_one by num_two and assign the value to a variable division"
   ]
  },
  {
   "cell_type": "code",
   "execution_count": null,
   "metadata": {},
   "outputs": [],
   "source": [
    "# Use modulus division to find num_two divided by num_one and assign the value to a variable remainder"
   ]
  },
  {
   "cell_type": "code",
   "execution_count": null,
   "metadata": {},
   "outputs": [],
   "source": [
    "# Calculate num_one to the power of num_two and assign the value to a variable exp\n"
   ]
  },
  {
   "cell_type": "code",
   "execution_count": null,
   "metadata": {},
   "outputs": [],
   "source": [
    "# Find floor division of num_one by num_two and assign the value to a variable floor_division\n"
   ]
  },
  {
   "cell_type": "code",
   "execution_count": null,
   "metadata": {},
   "outputs": [],
   "source": [
    "# The radius of a circle is 30 meters.\n",
    "# Calculate the area of a circle and assign the value to a variable name of area_of_circle\n",
    "## Calculate the circumference of a circle and assign the value to a variable name of circum_of_circle\n",
    "### Take radius as user input and calculate the area.\n"
   ]
  },
  {
   "cell_type": "code",
   "execution_count": null,
   "metadata": {},
   "outputs": [],
   "source": [
    "# Use the built-in input function to get first name, last name, country and age \n",
    "# from a user and store the value to their corresponding variable names"
   ]
  },
  {
   "cell_type": "code",
   "execution_count": null,
   "metadata": {},
   "outputs": [],
   "source": [
    "# Run help('keywords') in Python shell or in your file to check for the Python reserved words or keywords"
   ]
  }
 ],
 "metadata": {
  "kernelspec": {
   "display_name": "base",
   "language": "python",
   "name": "python3"
  },
  "language_info": {
   "codemirror_mode": {
    "name": "ipython",
    "version": 3
   },
   "file_extension": ".py",
   "mimetype": "text/x-python",
   "name": "python",
   "nbconvert_exporter": "python",
   "pygments_lexer": "ipython3",
   "version": "3.11.7"
  }
 },
 "nbformat": 4,
 "nbformat_minor": 2
}
