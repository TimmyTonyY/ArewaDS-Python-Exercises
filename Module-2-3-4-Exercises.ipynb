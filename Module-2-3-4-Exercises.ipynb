{
 "cells": [
  {
   "cell_type": "markdown",
   "metadata": {},
   "source": [
    "# Module 2: Variable"
   ]
  },
  {
   "cell_type": "markdown",
   "metadata": {},
   "source": [
    "### What is a Variable?\n",
    "Variables are used to store information to be referenced and manipulated in a computer program. They also provide a way of labeling data with a descriptive name, Variables can also called a containers that hold information."
   ]
  },
  {
   "cell_type": "markdown",
   "metadata": {},
   "source": [
    "## Exercises: Level 1"
   ]
  },
  {
   "cell_type": "code",
   "execution_count": 19,
   "metadata": {},
   "outputs": [
    {
     "name": "stdout",
     "output_type": "stream",
     "text": [
      "first name: Anthony\n"
     ]
    }
   ],
   "source": [
    "# Declare a first name variable and assign a value to it\n",
    "\n",
    "firstname = 'Anthony'\n",
    "print(f'first name: {firstname}')"
   ]
  },
  {
   "cell_type": "code",
   "execution_count": 5,
   "metadata": {},
   "outputs": [
    {
     "name": "stdout",
     "output_type": "stream",
     "text": [
      "Last Name: Timileyin\n"
     ]
    }
   ],
   "source": [
    "# Declare a last name variable and assign a value to it\n",
    "\n",
    "lastname = 'Timileyin'\n",
    "print(f'Last Name: {lastname}')"
   ]
  },
  {
   "cell_type": "code",
   "execution_count": 20,
   "metadata": {},
   "outputs": [
    {
     "name": "stdout",
     "output_type": "stream",
     "text": [
      "Full Name: Ogundipe Timileyin\n"
     ]
    }
   ],
   "source": [
    "# Declare a full name variable and assign a value to it\n",
    "\n",
    "fullname = 'Ogundipe Timileyin'\n",
    "print(f'Full Name: {fullname}')"
   ]
  },
  {
   "cell_type": "code",
   "execution_count": 21,
   "metadata": {},
   "outputs": [
    {
     "name": "stdout",
     "output_type": "stream",
     "text": [
      "Country: United State\n"
     ]
    }
   ],
   "source": [
    "# Declare a country variable and assign a value to it\n",
    "\n",
    "country = 'United State'\n",
    "print(f'Country: {country}')"
   ]
  },
  {
   "cell_type": "code",
   "execution_count": 22,
   "metadata": {},
   "outputs": [
    {
     "name": "stdout",
     "output_type": "stream",
     "text": [
      "City: New York\n"
     ]
    }
   ],
   "source": [
    "# Declare a city variable and assign a value to it\n",
    "\n",
    "city = 'New York'\n",
    "print(f'City: {city}')"
   ]
  },
  {
   "cell_type": "code",
   "execution_count": 23,
   "metadata": {},
   "outputs": [
    {
     "name": "stdout",
     "output_type": "stream",
     "text": [
      "Age: 24 year old\n"
     ]
    }
   ],
   "source": [
    "# Declare an age variable and assign a value to it\n",
    "\n",
    "age = '24 year old'\n",
    "print(f'Age: {age}')"
   ]
  },
  {
   "cell_type": "code",
   "execution_count": 24,
   "metadata": {},
   "outputs": [
    {
     "name": "stdout",
     "output_type": "stream",
     "text": [
      "Year: 2024\n"
     ]
    }
   ],
   "source": [
    "# Declare a year variable and assign a value to it\n",
    "\n",
    "year = 2024\n",
    "print('Year:', year)"
   ]
  },
  {
   "cell_type": "code",
   "execution_count": 25,
   "metadata": {},
   "outputs": [
    {
     "name": "stdout",
     "output_type": "stream",
     "text": [
      "Married: False\n"
     ]
    }
   ],
   "source": [
    "# Declare a variable is_married and assign a value to it\n",
    "\n",
    "is_married = False\n",
    "print('Married:', is_married)"
   ]
  },
  {
   "cell_type": "code",
   "execution_count": 26,
   "metadata": {},
   "outputs": [
    {
     "name": "stdout",
     "output_type": "stream",
     "text": [
      "True: Single\n"
     ]
    }
   ],
   "source": [
    "# Declare a variable is_true and assign a value to it\n",
    "\n",
    "is_ture = 'Single'\n",
    "print('True:', is_ture)"
   ]
  },
  {
   "cell_type": "code",
   "execution_count": 32,
   "metadata": {},
   "outputs": [
    {
     "name": "stdout",
     "output_type": "stream",
     "text": [
      "Is There Light: True\n"
     ]
    }
   ],
   "source": [
    "# Declare a variable is_light_on and assign a value to it\n",
    "\n",
    "is_light_on = True\n",
    "print('Is There Light:', is_light_on)"
   ]
  },
  {
   "cell_type": "code",
   "execution_count": 30,
   "metadata": {},
   "outputs": [
    {
     "name": "stdout",
     "output_type": "stream",
     "text": [
      "Surname: Ogundipe\n",
      "First Name: Timileyin\n",
      "Last Name: Anthony\n",
      "Country: United State\n",
      "City: New York\n",
      "My Age Is: 24 Year old\n"
     ]
    }
   ],
   "source": [
    "# Declare multiple variable on one line\n",
    "\n",
    "surname, firstname, lastname, country, city, age = 'Ogundipe','Timileyin','Anthony','United State','New York','24 Year old'\n",
    "print('Surname:', surname)\n",
    "print('First Name:', firstname)\n",
    "print('Last Name:', lastname)\n",
    "print('Country:', country)\n",
    "print('City:', city)\n",
    "print('My Age Is:', age)"
   ]
  },
  {
   "cell_type": "markdown",
   "metadata": {},
   "source": [
    "## Exercises: Level 2"
   ]
  },
  {
   "cell_type": "code",
   "execution_count": 37,
   "metadata": {},
   "outputs": [
    {
     "name": "stdout",
     "output_type": "stream",
     "text": [
      "First Name Data Type Is: <class 'str'>\n",
      "Last Name Data Type Is: <class 'str'>\n",
      "Full Name Data Type Is: <class 'str'>\n",
      "Country Data Type Is: <class 'str'>\n",
      "City Data Type Is: <class 'str'>\n",
      "Age Data Type Is: <class 'str'>\n",
      "Year Data Type Is: <class 'int'>\n",
      "Married Data Type Is: <class 'bool'>\n",
      "Ture Data Type Is: <class 'str'>\n",
      "Light Data Type Is: <class 'bool'>\n"
     ]
    }
   ],
   "source": [
    "# Check the data type of all your variables using type() built-in function\n",
    "\n",
    "firstname = 'Anthony'\n",
    "print('First Name Data Type Is:', type(firstname))\n",
    "\n",
    "lastname = 'Timileyin'\n",
    "print('Last Name Data Type Is:', type(lastname))\n",
    "\n",
    "fullname = 'Ogundipe Timileyin'\n",
    "print('Full Name Data Type Is:', type(fullname))\n",
    "\n",
    "country = 'United State'\n",
    "print('Country Data Type Is:', type(country))\n",
    "\n",
    "city = 'New York'\n",
    "print('City Data Type Is:', type(city))\n",
    "\n",
    "age = '24 year old'\n",
    "print('Age Data Type Is:', type(age))\n",
    "\n",
    "year = 2024\n",
    "print('Year Data Type Is:', type(year))\n",
    "\n",
    "is_married = False\n",
    "print('Married Data Type Is:', type(is_married))\n",
    "\n",
    "is_ture = 'Single'\n",
    "print('Ture Data Type Is:', type(is_ture))\n",
    "\n",
    "is_light_on = True\n",
    "print('Light Data Type Is:', type(is_light_on))\n"
   ]
  },
  {
   "cell_type": "code",
   "execution_count": 38,
   "metadata": {},
   "outputs": [
    {
     "name": "stdout",
     "output_type": "stream",
     "text": [
      "First Name Length Is: 7\n"
     ]
    }
   ],
   "source": [
    "# Using the len() built-in function, find the length of your first name\n",
    "\n",
    "firstname = 'Anthony'\n",
    "print('First Name Length Is:', len(firstname))"
   ]
  },
  {
   "cell_type": "code",
   "execution_count": 20,
   "metadata": {},
   "outputs": [
    {
     "name": "stdout",
     "output_type": "stream",
     "text": [
      "The Length of firstname is: 7 and Length of lastname is: 9\n",
      "Lastname has more lenght than Firstname\n"
     ]
    }
   ],
   "source": [
    "# Compare the length of your first name and your last name\n",
    "\n",
    "firstname = 'Anthony'\n",
    "lastname = 'Timileyin'\n",
    "\n",
    "print(f'The Length of firstname is: {len(firstname)} and Length of lastname is: {len(lastname)}')\n",
    "\n",
    "if firstname > lastname:\n",
    "    print(f'Firstname has more length than Lastname')\n",
    "elif lastname > firstname:\n",
    "    print('Lastname has more lenght than Firstname')\n",
    "else:\n",
    "    print('Firstname and Lastname has equal length')\n"
   ]
  },
  {
   "cell_type": "code",
   "execution_count": 22,
   "metadata": {},
   "outputs": [
    {
     "name": "stdout",
     "output_type": "stream",
     "text": [
      "Num_one = 5 and Num_two = 4\n"
     ]
    }
   ],
   "source": [
    "# Declare 5 as num_one and 4 as num_two\n",
    "\n",
    "num_one = 5\n",
    "num_two = 4\n",
    "\n",
    "print(f'Num_one = {num_one} and Num_two = {num_two}')"
   ]
  },
  {
   "cell_type": "code",
   "execution_count": 3,
   "metadata": {},
   "outputs": [
    {
     "name": "stdout",
     "output_type": "stream",
     "text": [
      "The Total num of num_one and num_two is: [9]\n"
     ]
    }
   ],
   "source": [
    "# Add num_one and num_two and assign the value to a variable total\n",
    "\n",
    "total_num = []\n",
    "\n",
    "num_one = 5\n",
    "num_two = 4\n",
    "\n",
    "total_num.append(num_one + num_two)\n",
    "\n",
    "print(f'The Total num of num_one and num_two is: {total_num}')"
   ]
  },
  {
   "cell_type": "code",
   "execution_count": 4,
   "metadata": {},
   "outputs": [
    {
     "name": "stdout",
     "output_type": "stream",
     "text": [
      "The Subtract num of num_one and num_two is: []\n"
     ]
    }
   ],
   "source": [
    "# Subtract num_two from num_one and assign the value to a variable diff\n",
    "\n",
    "subtract_num = []\n",
    "\n",
    "num_one = 5\n",
    "num_two = 4\n",
    "\n",
    "total_num.append(num_one - num_two)\n",
    "\n",
    "print(f'The Subtract num of num_one and num_two is: {subtract_num}')"
   ]
  },
  {
   "cell_type": "code",
   "execution_count": 5,
   "metadata": {},
   "outputs": [
    {
     "name": "stdout",
     "output_type": "stream",
     "text": [
      "The multiply num of num_one and num_two is: [20]\n"
     ]
    }
   ],
   "source": [
    "# Multiply num_two and num_one and assign the value to a variable product\n",
    "\n",
    "multiply = []\n",
    "\n",
    "num_one = 5\n",
    "num_two = 4\n",
    "\n",
    "multiply.append(num_one * num_two)\n",
    "\n",
    "print(f'The multiply num of num_one and num_two is: {multiply}')"
   ]
  },
  {
   "cell_type": "code",
   "execution_count": 6,
   "metadata": {},
   "outputs": [
    {
     "name": "stdout",
     "output_type": "stream",
     "text": [
      "The Division num of num_one and num_two is: [1.25]\n"
     ]
    }
   ],
   "source": [
    "# Divide num_one by num_two and assign the value to a variable division\n",
    "\n",
    "divide = []\n",
    "\n",
    "num_one = 5\n",
    "num_two = 4\n",
    "\n",
    "divide.append(num_one / num_two)\n",
    "\n",
    "print(f'The Division num of num_one and num_two is: {divide}')"
   ]
  },
  {
   "cell_type": "code",
   "execution_count": 8,
   "metadata": {},
   "outputs": [
    {
     "name": "stdout",
     "output_type": "stream",
     "text": [
      "The modulus division of num_one and num_two is: [4]\n"
     ]
    }
   ],
   "source": [
    "# Use modulus division to find num_two divided by num_one and assign the value to a variable remainder\n",
    "\n",
    "modulus = []\n",
    "\n",
    "num_one = 5\n",
    "num_two = 4\n",
    "\n",
    "modulus.append(num_two % num_one)\n",
    "\n",
    "print(f'The modulus division of num_one and num_two is: {modulus}')"
   ]
  },
  {
   "cell_type": "code",
   "execution_count": 10,
   "metadata": {},
   "outputs": [
    {
     "name": "stdout",
     "output_type": "stream",
     "text": [
      "The power of num_one to num_two is : 625\n"
     ]
    }
   ],
   "source": [
    "# Calculate num_one to the power of num_two and assign the value to a variable exp\n",
    "\n",
    "power = []\n",
    "\n",
    "num_one = 5\n",
    "num_two = 4\n",
    "\n",
    "nums = num_one**num_two\n",
    "\n",
    "power.append(nums)\n",
    "\n",
    "print(f'The power of num_one to num_two is : {nums}')"
   ]
  },
  {
   "cell_type": "code",
   "execution_count": 12,
   "metadata": {},
   "outputs": [
    {
     "name": "stdout",
     "output_type": "stream",
     "text": [
      "The floor division of num_one by num_two is: [1]\n"
     ]
    }
   ],
   "source": [
    "# Find floor division of num_one by num_two and assign the value to a variable floor_division\n",
    "floor = []\n",
    "\n",
    "num_one = 5\n",
    "num_two = 4\n",
    "\n",
    "floors = num_one//num_two\n",
    "\n",
    "floor.append(floors)\n",
    "\n",
    "print(f'The floor division of num_one by num_two is: {floor}')"
   ]
  },
  {
   "cell_type": "code",
   "execution_count": 19,
   "metadata": {},
   "outputs": [
    {
     "name": "stdout",
     "output_type": "stream",
     "text": [
      "The area of circle is: 2826.0\n",
      "The circumference of a circle is: 188.4\n",
      "User input radius is: 60\n",
      "User input area of circle is: 11304.0\n"
     ]
    }
   ],
   "source": [
    "# The radius of a circle is 30 meters.\n",
    "# Calculate the area of a circle and assign the value to a variable name of area_of_circle\n",
    "## Calculate the circumference of a circle and assign the value to a variable name of circum_of_circle\n",
    "### Take radius as user input and calculate the area.\n",
    "\n",
    "# your radius\n",
    "radius = 30\n",
    "\n",
    "#your pi\n",
    "pi = 3.14\n",
    "\n",
    "# formular for area of a circle\n",
    "area_of_circle = pi * radius**2\n",
    "\n",
    "# Calculate the area of a circle \n",
    "area_of_circle = pi * radius**2\n",
    "print(f'The area of circle is: {area_of_circle}')\n",
    "\n",
    "# formular for circumference of a circle\n",
    "circum_of_circle = 2 * pi * radius\n",
    "\n",
    "# Calculate the circumference of a circle\n",
    "circum_of_circle = 2 * pi * radius\n",
    "print(f'The circumference of a circle is: {circum_of_circle}')\n",
    "\n",
    "# Take radius as user input\n",
    "user_radius = int(input('enter your radius'))\n",
    "print(f'User input radius is: {user_radius}')\n",
    "user_area_of_circle = pi * user_radius**2\n",
    "print(f'User input area of circle is: {user_area_of_circle}')\n"
   ]
  },
  {
   "cell_type": "code",
   "execution_count": 15,
   "metadata": {},
   "outputs": [
    {
     "name": "stdout",
     "output_type": "stream",
     "text": [
      "The first name is: Timileyin\n",
      "The last name is: Ogundipe\n",
      "The Country is: United State\n",
      "The Age is: 24 year old\n"
     ]
    }
   ],
   "source": [
    "# Use the built-in input function to get first name, last name, country and age \n",
    "# from a user and store the value to their corresponding variable names\n",
    "\n",
    "firstname = input('enter your firstname')\n",
    "lastname = input('enter your lastname')\n",
    "country = input('enter your country')\n",
    "age = input('enter your age')\n",
    "\n",
    "print(f'The first name is: {firstname}')\n",
    "print(f'The last name is: {lastname}')\n",
    "print(f'The Country is: {country}')\n",
    "print(f'The Age is: {age}')"
   ]
  },
  {
   "cell_type": "code",
   "execution_count": 16,
   "metadata": {},
   "outputs": [
    {
     "name": "stdout",
     "output_type": "stream",
     "text": [
      "\n",
      "Here is a list of the Python keywords.  Enter any keyword to get more help.\n",
      "\n",
      "False               class               from                or\n",
      "None                continue            global              pass\n",
      "True                def                 if                  raise\n",
      "and                 del                 import              return\n",
      "as                  elif                in                  try\n",
      "assert              else                is                  while\n",
      "async               except              lambda              with\n",
      "await               finally             nonlocal            yield\n",
      "break               for                 not                 \n",
      "\n"
     ]
    }
   ],
   "source": [
    "# Run help('keywords') in Python shell or in your file to check for the Python reserved words or keywords\n",
    "\n",
    "help('keywords')"
   ]
  },
  {
   "cell_type": "markdown",
   "metadata": {},
   "source": [
    "# Module 3: Operators"
   ]
  },
  {
   "cell_type": "markdown",
   "metadata": {},
   "source": [
    "## What is Operator?\n",
    "Operators are used to perform operations on variables and values. In Python, operators are special symbols or keywords that are used to perform operations on variables or values.\n",
    "## Types of operators\n",
    "* Arithmetic Operators : It's used to perform mathematical operations.\n",
    "    #### Example:\n",
    "              (+) = Addition\n",
    "              (-) = Subtraction\n",
    "              (*) = Multiplication\n",
    "              (/) = Division\n",
    "              (%) = Modulus (OR) Remainder\n",
    "             (**) = Exponentiation\n",
    "             (//) = Floor Division\n",
    "* Comparison Operators : It's used to compare two values.\n",
    "     #### Example: \n",
    "             (==) Equal to\n",
    "             (!=) Not equal to\n",
    "             (>) Greater than\n",
    "             (<) Less than\n",
    "             (>=) Greater than or equal to\n",
    "             (<=) Less than or equal to\n",
    "* Logical Operators : It's Used to combine conditional statements.\n",
    "    #### Example:\n",
    "            AND = If both conditional statement is TRUE.\n",
    "            OR = If one of the conditional statement is TRUE.\n",
    "            NOT = When the condition statement is FLASE.\n",
    "            BOOLEAN = when condition is TRUE or FLASE.\n",
    "* Membership Operators : It's used to test for membership in sequences like lists, strings, or tuples.\n",
    "    #### Example:\n",
    "            IN = Returns True if present\n",
    "            NOT IN = Returns True if not present\n",
    "* Identity Operators : It's Used to compare memory locations of two objects.\n",
    "    #### Example:\n",
    "            IS = Return True if identical objects\n",
    "            IS NOT = Return True if not identical"
   ]
  },
  {
   "cell_type": "markdown",
   "metadata": {},
   "source": [
    "## Exercises - Module 3"
   ]
  },
  {
   "cell_type": "code",
   "execution_count": 8,
   "metadata": {},
   "outputs": [
    {
     "name": "stdout",
     "output_type": "stream",
     "text": [
      "25\n"
     ]
    },
    {
     "data": {
      "text/plain": [
       "int"
      ]
     },
     "execution_count": 8,
     "metadata": {},
     "output_type": "execute_result"
    }
   ],
   "source": [
    "# Declare your age as integer variable\n",
    "\n",
    "age = 25\n",
    "\n",
    "print(age)\n",
    "type(age)"
   ]
  },
  {
   "cell_type": "code",
   "execution_count": 7,
   "metadata": {},
   "outputs": [
    {
     "name": "stdout",
     "output_type": "stream",
     "text": [
      "6.2\n"
     ]
    },
    {
     "data": {
      "text/plain": [
       "float"
      ]
     },
     "execution_count": 7,
     "metadata": {},
     "output_type": "execute_result"
    }
   ],
   "source": [
    "# Declare your height as a float variable\n",
    "\n",
    "height = 6.2\n",
    "\n",
    "print(height)\n",
    "type(height)"
   ]
  },
  {
   "cell_type": "code",
   "execution_count": 9,
   "metadata": {},
   "outputs": [
    {
     "name": "stdout",
     "output_type": "stream",
     "text": [
      "(3+5j)\n"
     ]
    },
    {
     "data": {
      "text/plain": [
       "complex"
      ]
     },
     "execution_count": 9,
     "metadata": {},
     "output_type": "execute_result"
    }
   ],
   "source": [
    "# Declare a variable that store a complex number\n",
    "\n",
    "complex_num = 3+5j\n",
    "\n",
    "print(complex_num)\n",
    "type(complex_num)"
   ]
  },
  {
   "cell_type": "code",
   "execution_count": 20,
   "metadata": {},
   "outputs": [
    {
     "name": "stdout",
     "output_type": "stream",
     "text": [
      "The of triangle is : 100.0\n"
     ]
    }
   ],
   "source": [
    "'''\n",
    "Write a script that prompts the user to enter base and height of the triangle and calculate an area of this triangle (area = 0.5 x b x h).\n",
    "    Enter base: 20\n",
    "    Enter height: 10\n",
    "    The area of the triangle is 100\n",
    "'''\n",
    "\n",
    "# user enter \n",
    "base = int(input('enter the base number :'))\n",
    "height = int(input('enter the height number:'))\n",
    "\n",
    "# calulate the area of a triangle \n",
    "area = 0.5 * base * height\n",
    "\n",
    "area_of_triangle = area\n",
    "\n",
    "print('The of triangle is :', area_of_triangle )\n"
   ]
  },
  {
   "cell_type": "code",
   "execution_count": 22,
   "metadata": {},
   "outputs": [
    {
     "name": "stdout",
     "output_type": "stream",
     "text": [
      "The perimeter of the triangle is : 12\n"
     ]
    }
   ],
   "source": [
    "'''\n",
    "Write a script that prompts the user to enter side a, side b, and side c of the triangle. Calculate the perimeter of the triangle (perimeter = a + b + c).\n",
    "Enter side a: 5\n",
    "Enter side b: 4\n",
    "Enter side c: 3\n",
    "The perimeter of the triangle is 12\n",
    "'''\n",
    "\n",
    "# user enter \n",
    "a = int(input('enter the side a number:'))\n",
    "b = int(input('enter the side b number:'))\n",
    "c = int(input('enter the side c number:'))\n",
    "\n",
    "# Calculate the perimeter of the triangle\n",
    "perimeter = a + b + c\n",
    "\n",
    "perimeter_of_triangle = perimeter\n",
    "\n",
    "print(f'The perimeter of the triangle is : {perimeter_of_triangle}')\n"
   ]
  },
  {
   "cell_type": "code",
   "execution_count": 26,
   "metadata": {},
   "outputs": [
    {
     "name": "stdout",
     "output_type": "stream",
     "text": [
      "The Length is:  20\n",
      "The width is:  15\n",
      "The Area of Rectangle is: 300\n",
      "The Area of perimeter is: 70\n"
     ]
    }
   ],
   "source": [
    "# Get length and width of a rectangle using prompt. Calculate its area (area = length x width) and perimeter (perimeter = 2 x (length + width))\n",
    "\n",
    "# user enter\n",
    "length = int(input('enter the lenght number:'))\n",
    "width = int(input('enter the width number:'))\n",
    "\n",
    "print('The Length is: ', length)\n",
    "print('The width is: ', width)\n",
    "\n",
    "# Calculate the area of Rectangle\n",
    "area = length * width\n",
    "\n",
    "area_of_rectangle = area\n",
    "\n",
    "print(f'The Area of Rectangle is: {area_of_rectangle}')\n",
    "\n",
    "# Calculate the area of perimeter\n",
    "perimeter = 2 * (length + width)\n",
    "\n",
    "area_of_perimeter = perimeter\n",
    "\n",
    "print(f'The Area of perimeter is: {area_of_perimeter}')\n",
    "\n"
   ]
  },
  {
   "cell_type": "code",
   "execution_count": 28,
   "metadata": {},
   "outputs": [
    {
     "name": "stdout",
     "output_type": "stream",
     "text": [
      "The of a circle is : 2826.0\n",
      "The of a circumference is : 188.4\n"
     ]
    }
   ],
   "source": [
    "# Get radius of a circle using prompt. Calculate the area (area = pi x r x r) and circumference (c = 2 x pi x r) where pi = 3.14.\n",
    "\n",
    "# get radius\n",
    "radius = 30\n",
    "pi = 3.14\n",
    "\n",
    "r = radius\n",
    "\n",
    "# Calculate the area of a circle\n",
    "area = pi * r * r\n",
    "print(f'The of a circle is : {area}')\n",
    "\n",
    "# Calculate the area of a circumference\n",
    "circumference = 2 * pi * r\n",
    "print(f'The of a circumference is : {circumference}')\n"
   ]
  },
  {
   "cell_type": "code",
   "execution_count": 29,
   "metadata": {},
   "outputs": [
    {
     "name": "stdout",
     "output_type": "stream",
     "text": [
      "Slope (m): 2\n",
      "Y-intercept: -2\n",
      "X-intercept: 1.0\n"
     ]
    }
   ],
   "source": [
    "# Calculate the slope, x-intercept and y-intercept of y = 2x -2\n",
    "\n",
    "'''\n",
    "The slope of a line is the coefficient of x in the linear equation of the form: 𝑦 = 𝑚𝑥 + 𝑏\n",
    "\n",
    "Where:\n",
    "m is the slope of the line.\n",
    "b is the y-intercept.\n",
    "\n",
    "comparing = 2x − 2 to  y = mx + b\n",
    "'''\n",
    "# calculate the slope\n",
    "slope = 2\n",
    "print(f\"Slope (m): {slope}\")\n",
    "\n",
    "# Y-intercept (c) is the constant term\n",
    "y_intercept = -2\n",
    "print(f\"Y-intercept: {y_intercept}\")\n",
    "\n",
    "# calculate the x-intercept\n",
    "'''\n",
    "Set y = 0 in the equation: 0 = 2x - 2\n",
    "Solving for x:\n",
    "'''\n",
    "x_intercept = 2 / 2  \n",
    "print(f\"X-intercept: {x_intercept}\")\n",
    "\n"
   ]
  },
  {
   "cell_type": "code",
   "execution_count": 32,
   "metadata": {},
   "outputs": [
    {
     "name": "stdout",
     "output_type": "stream",
     "text": [
      "Slope: 2.0\n",
      "Euclidean Distance: 8.94427190999916\n"
     ]
    }
   ],
   "source": [
    "# Slope is (m = y2-y1/x2-x1). Find the slope and Euclidean distance between point (2, 2) and point (6,10)\n",
    "\n",
    "# give point\n",
    "x1, y1 = 2, 2\n",
    "x2, y2 = 6, 10\n",
    "\n",
    "# Calculate slope\n",
    "m =(y2-y1)/(x2-x1)\n",
    "print(f\"Slope: {m}\")\n",
    " \n",
    "# calculate the Euclidean distance\n",
    "distance = ((x2 - x1)**2 + (y2 - y1)**2)**0.5\n",
    "print(f\"Euclidean Distance: {distance}\")\n"
   ]
  },
  {
   "cell_type": "code",
   "execution_count": 34,
   "metadata": {},
   "outputs": [
    {
     "name": "stdout",
     "output_type": "stream",
     "text": [
      "Task 8 and Task 9 are equall to 2\n"
     ]
    }
   ],
   "source": [
    "# Compare the slopes in tasks 8 and 9.\n",
    "\n",
    "task_8 = 2\n",
    "task_9 = 2\n",
    "\n",
    "if task_8 > task_9:\n",
    "    print('Task 8 slope is Greater than Task 9 slope')\n",
    "elif task_9 > task_8:\n",
    "    print('Task 9 slope is Greater than Task 8 slope')\n",
    "else:\n",
    "    print('Task 8 and Task 9 are equall to 2')"
   ]
  },
  {
   "cell_type": "code",
   "execution_count": 62,
   "metadata": {},
   "outputs": [],
   "source": [
    "# Calculate the value of y (y = x^2 + 6x + 9). Try to use different x values and figure out at what x value y is going to be 0\n"
   ]
  },
  {
   "cell_type": "code",
   "execution_count": 6,
   "metadata": {},
   "outputs": [
    {
     "name": "stdout",
     "output_type": "stream",
     "text": [
      "The length of python is: 6\n",
      "The length of dragon is: 6\n"
     ]
    },
    {
     "data": {
      "text/plain": [
       "False"
      ]
     },
     "execution_count": 6,
     "metadata": {},
     "output_type": "execute_result"
    }
   ],
   "source": [
    "# Find the length of 'python' and 'dragon' and make a falsy comparison statement.\n",
    "\n",
    "length_p = len('python')\n",
    "length_d = len('dragon')\n",
    "\n",
    "print(f'The length of python is: {length_p}')\n",
    "print(f'The length of dragon is: {length_d}')\n",
    "\n",
    "length_p != length_d\n"
   ]
  },
  {
   "cell_type": "code",
   "execution_count": 15,
   "metadata": {},
   "outputs": [
    {
     "name": "stdout",
     "output_type": "stream",
     "text": [
      "True: There is 'on' in python and dragon\n"
     ]
    }
   ],
   "source": [
    "# Use and operator to check if 'on' is found in both 'python' and 'dragon'\n",
    "\n",
    "if 'on' in 'python''dragon':\n",
    "    print(f\"True: There is 'on' in python and dragon\")\n",
    "else:\n",
    "    print(f\"False: There is no 'on' in python and dragon\")\n",
    "\n"
   ]
  },
  {
   "cell_type": "code",
   "execution_count": 18,
   "metadata": {},
   "outputs": [
    {
     "name": "stdout",
     "output_type": "stream",
     "text": [
      "True: There is 'jargon' in the course sentence \n"
     ]
    }
   ],
   "source": [
    "# I hope this course is not full of jargon. Use in operator to check if jargon is in the sentence.\n",
    "\n",
    "if 'jargon' in 'I hope this course is not full of jargon':\n",
    "    print(f\"True: There is 'jargon' in the course sentence \")\n",
    "else:\n",
    "    print(f\"False: There is no 'jargon' in the course sentence\")"
   ]
  },
  {
   "cell_type": "code",
   "execution_count": 19,
   "metadata": {},
   "outputs": [
    {
     "name": "stdout",
     "output_type": "stream",
     "text": [
      "False: There is 'on' in both python and dragon\n"
     ]
    }
   ],
   "source": [
    "# There is no 'on' in both dragon and python\n",
    "\n",
    "if 'on' not in 'python''dragon':\n",
    "    print(f\"True: There is no 'on' in python and dragon\")\n",
    "else:\n",
    "    print(f\"False: There is 'on' in both python and dragon\")\n"
   ]
  },
  {
   "cell_type": "code",
   "execution_count": 32,
   "metadata": {},
   "outputs": [
    {
     "name": "stdout",
     "output_type": "stream",
     "text": [
      "The length on python is: 6\n",
      "6.0\n",
      "6\n"
     ]
    }
   ],
   "source": [
    "# Find the length of the text python and convert the value to float and convert it to string\n",
    "\n",
    "# Find the length python\n",
    "length_p = len('python')\n",
    "print(f'The length on python is: {length_p}')\n",
    "\n",
    "# convert to float\n",
    "convert_to_float = float(length_p)\n",
    "print(convert_to_float)\n",
    "\n",
    "# convert to string\n",
    "convert_to_str = str(length_p)\n",
    "print(convert_to_str)\n"
   ]
  },
  {
   "cell_type": "code",
   "execution_count": 43,
   "metadata": {},
   "outputs": [
    {
     "name": "stdout",
     "output_type": "stream",
     "text": [
      "The even number is: 2\n",
      "The even number is: 4\n",
      "The even number is: 6\n",
      "The even number is: 8\n",
      "The even number is: 10\n"
     ]
    }
   ],
   "source": [
    "# Even numbers are divisible by 2 and the remainder is zero. How do you check if a number is even or not using python?\n",
    "\n",
    "for x in range(1,11):\n",
    "    if x %2 == 0:\n",
    "        print(f'The even number is: {x}')\n"
   ]
  },
  {
   "cell_type": "code",
   "execution_count": 37,
   "metadata": {},
   "outputs": [
    {
     "name": "stdout",
     "output_type": "stream",
     "text": [
      "2\n",
      "2\n",
      "True\n"
     ]
    }
   ],
   "source": [
    "# Check if the floor division of 7 by 3 is equal to the int converted value of 2.7.\n",
    "\n",
    "floor = 7 // 3\n",
    "print(floor)\n",
    "\n",
    "convert_value = int(2.7)\n",
    "print(convert_value)\n",
    "\n",
    "result = floor == convert_value\n",
    "print(result)\n"
   ]
  },
  {
   "cell_type": "code",
   "execution_count": 38,
   "metadata": {},
   "outputs": [
    {
     "name": "stdout",
     "output_type": "stream",
     "text": [
      "False\n"
     ]
    }
   ],
   "source": [
    "# Check if type of '10' is equal to type of 10\n",
    "\n",
    "x = '10'\n",
    "y = 10\n",
    "\n",
    "result = type(x) == type(y)\n",
    "print(result)"
   ]
  },
  {
   "cell_type": "code",
   "execution_count": 40,
   "metadata": {},
   "outputs": [
    {
     "name": "stdout",
     "output_type": "stream",
     "text": [
      "False\n"
     ]
    }
   ],
   "source": [
    "# Check if int('9.8') is equal to 10\n",
    "\n",
    "check_int = int(9.8)\n",
    "equal = 10\n",
    "\n",
    "result = check_int == equal\n",
    "print(result)"
   ]
  },
  {
   "cell_type": "code",
   "execution_count": 45,
   "metadata": {},
   "outputs": [
    {
     "name": "stdout",
     "output_type": "stream",
     "text": [
      "The pay of the person is: 1120\n"
     ]
    }
   ],
   "source": [
    "'''\n",
    "Write a script that prompts the user to enter hours and rate per hour. Calculate pay of the person?\n",
    "Enter hours: 40\n",
    "Enter rate per hour: 28\n",
    "Your weekly earning is 1120\n",
    "'''\n",
    "\n",
    "# user enter\n",
    "hours = int(input('Enter your hours: '))\n",
    "rate_per_hour = int(input('Enter your rate per hour: '))\n",
    "\n",
    "# calculate pay of the person\n",
    "pay = (hours * rate_per_hour)\n",
    "\n",
    "print(f'The pay of the person is: {pay}')"
   ]
  },
  {
   "cell_type": "code",
   "execution_count": 49,
   "metadata": {},
   "outputs": [
    {
     "name": "stdout",
     "output_type": "stream",
     "text": [
      "You have lived for: 3153600000 seconds.\n"
     ]
    }
   ],
   "source": [
    "'''\n",
    "Write a script that prompts the user to enter number of years. Calculate the number of seconds a person can live. \n",
    "Assume a person can live hundred years\n",
    "Enter number of years you have lived: 100\n",
    "You have lived for 3153600000 seconds.\n",
    "'''\n",
    "\n",
    "# user enter\n",
    "years_of_live = int(input('Enter the years of living: '))\n",
    "\n",
    "# formular for seconds lived in a year\n",
    "seconds_in_year = 365 * 24 * 60 * 60\n",
    "\n",
    "# Calculate the number of seconds a person can live\n",
    "seconds_lived = years_of_live * seconds_in_year\n",
    "print(f'You have lived for: {seconds_lived} seconds.')"
   ]
  },
  {
   "cell_type": "code",
   "execution_count": 58,
   "metadata": {},
   "outputs": [
    {
     "name": "stdout",
     "output_type": "stream",
     "text": [
      "1 1 1 1\n",
      "2 2 4 8\n",
      "3 3 9 27\n",
      "4 4 16 64\n",
      "5 5 25 125\n"
     ]
    }
   ],
   "source": [
    "''' \n",
    "Write a Python script that displays the following table\n",
    "1 1 1 1 1\n",
    "2 1 2 4 8\n",
    "3 1 3 9 27\n",
    "4 1 4 16 64\n",
    "5 1 5 25 125\n",
    "'''\n",
    "\n",
    "for i in range (1,6):\n",
    "    print(i, int(i**1), i**2, i**3)"
   ]
  },
  {
   "cell_type": "markdown",
   "metadata": {},
   "source": [
    "# Module 4: Strings"
   ]
  },
  {
   "cell_type": "markdown",
   "metadata": {},
   "source": [
    "## What is Strings?\n",
    "strings are sequences of characters used to represent text. They are a fundamental data type in most programming languages and are used to store and manipulate text-based data such as names, messages, or any other information expressed as text."
   ]
  },
  {
   "cell_type": "markdown",
   "metadata": {},
   "source": [
    "## Exercises - Module 4"
   ]
  },
  {
   "cell_type": "code",
   "execution_count": 64,
   "metadata": {},
   "outputs": [
    {
     "name": "stdout",
     "output_type": "stream",
     "text": [
      "Thirty Days of Python\n"
     ]
    }
   ],
   "source": [
    "# Concatenate the string 'Thirty', 'Days', 'Of', 'Python' to a single string, 'Thirty Days Of Python'\n",
    "\n",
    "days = 'Thirty Days '\n",
    "code = 'of Python'\n",
    "\n",
    "result = days + code\n",
    "\n",
    "print(result)\n"
   ]
  },
  {
   "cell_type": "code",
   "execution_count": 65,
   "metadata": {},
   "outputs": [
    {
     "name": "stdout",
     "output_type": "stream",
     "text": [
      "Coding For All\n"
     ]
    }
   ],
   "source": [
    "# Concatenate the string 'Coding', 'For' , 'All' to a single string, 'Coding For All'.\n",
    "\n",
    "x = 'Coding '\n",
    "y = 'For All'\n",
    "\n",
    "result = x + y\n",
    "\n",
    "print(result)"
   ]
  },
  {
   "cell_type": "code",
   "execution_count": 66,
   "metadata": {},
   "outputs": [
    {
     "name": "stdout",
     "output_type": "stream",
     "text": [
      "Coding For All\n"
     ]
    }
   ],
   "source": [
    "# Declare a variable named company and assign it to an initial value \"Coding For All\".\n",
    "\n",
    "\n",
    "company = 'Coding For All'\n",
    "print(company)"
   ]
  },
  {
   "cell_type": "code",
   "execution_count": 67,
   "metadata": {},
   "outputs": [
    {
     "name": "stdout",
     "output_type": "stream",
     "text": [
      "Coding For All\n"
     ]
    }
   ],
   "source": [
    "# Print the variable company using print().\n",
    "print(company)\n"
   ]
  },
  {
   "cell_type": "code",
   "execution_count": 70,
   "metadata": {},
   "outputs": [
    {
     "name": "stdout",
     "output_type": "stream",
     "text": [
      "The length of the string is: 14\n"
     ]
    }
   ],
   "source": [
    "# Print the length of the company string using len() method and print().\n",
    "\n",
    "company = 'Coding For All'\n",
    "print(f'The length of the string is: {len(company)}')"
   ]
  },
  {
   "cell_type": "code",
   "execution_count": 71,
   "metadata": {},
   "outputs": [
    {
     "name": "stdout",
     "output_type": "stream",
     "text": [
      "CODING FOR ALL\n"
     ]
    }
   ],
   "source": [
    "# Change all the characters to uppercase letters using upper() method.\n",
    "\n",
    "company = 'Coding For All'\n",
    "print(company.upper())\n"
   ]
  },
  {
   "cell_type": "code",
   "execution_count": 72,
   "metadata": {},
   "outputs": [
    {
     "name": "stdout",
     "output_type": "stream",
     "text": [
      "coding for all\n"
     ]
    }
   ],
   "source": [
    "# Change all the characters to lowercase letters using lower() method.\n",
    "\n",
    "company = 'Coding For All'\n",
    "print(company.lower())\n"
   ]
  },
  {
   "cell_type": "code",
   "execution_count": 73,
   "metadata": {},
   "outputs": [
    {
     "name": "stdout",
     "output_type": "stream",
     "text": [
      "Coding for all\n",
      "Coding For All\n",
      "cODING fOR aLL\n"
     ]
    }
   ],
   "source": [
    "# Use capitalize(), title(), swapcase() methods to format the value of the string Coding For All.\n",
    "\n",
    "company = 'Coding For All'\n",
    "print(company.capitalize())\n",
    "print(company.title())\n",
    "print(company.swapcase())\n"
   ]
  },
  {
   "cell_type": "code",
   "execution_count": 74,
   "metadata": {},
   "outputs": [
    {
     "name": "stdout",
     "output_type": "stream",
     "text": [
      " For All\n"
     ]
    }
   ],
   "source": [
    "# Cut(slice) out the first word of Coding For All string.\n",
    "\n",
    "company = 'Coding For All'\n",
    "\n",
    "print(company[6:14])\n"
   ]
  },
  {
   "cell_type": "code",
   "execution_count": 88,
   "metadata": {},
   "outputs": [
    {
     "name": "stdout",
     "output_type": "stream",
     "text": [
      "The word 'Coding' is found in the string at index 0.\n"
     ]
    }
   ],
   "source": [
    "# Check if Coding For All string contains a word Coding using the method index, find or other methods.\n",
    "\n",
    "company = 'Coding For All'\n",
    "word = 'Coding'\n",
    "\n",
    "try:\n",
    "    result = company.index(word)\n",
    "    print(f\"The word '{word}' is found in the string at index {result}.\")\n",
    "except ValueError:\n",
    "    print(f\"The word '{word}' is not found in the string.\")"
   ]
  },
  {
   "cell_type": "code",
   "execution_count": 94,
   "metadata": {},
   "outputs": [
    {
     "name": "stdout",
     "output_type": "stream",
     "text": [
      "Python For All\n"
     ]
    }
   ],
   "source": [
    "# Replace the word coding in the string 'Coding For All' to Python.\n",
    "\n",
    "company = 'Coding For All'\n",
    "\n",
    "result = company.replace('Coding','Python')\n",
    "print(result)"
   ]
  },
  {
   "cell_type": "code",
   "execution_count": 114,
   "metadata": {},
   "outputs": [
    {
     "name": "stdout",
     "output_type": "stream",
     "text": [
      "Python For All\n"
     ]
    }
   ],
   "source": [
    "# Change Python for Everyone to Python for All using the replace method or other methods.\n",
    "\n",
    "company = 'Python For Everyone'\n",
    "\n",
    "result = company.replace('Everyone','All')\n",
    "print(result)"
   ]
  },
  {
   "cell_type": "code",
   "execution_count": 98,
   "metadata": {},
   "outputs": [
    {
     "name": "stdout",
     "output_type": "stream",
     "text": [
      "['Coding', 'For', 'All']\n"
     ]
    }
   ],
   "source": [
    "# Split the string 'Coding For All' using space as the separator (split()) .\n",
    "\n",
    "company = 'Coding For All'\n",
    "\n",
    "result = company.split()\n",
    "print(result)\n"
   ]
  },
  {
   "cell_type": "code",
   "execution_count": 106,
   "metadata": {},
   "outputs": [
    {
     "name": "stdout",
     "output_type": "stream",
     "text": [
      "['Facebook', ' Google', ' Microsoft', ' Apple', ' IBM', ' Oracle', ' Amazon']\n"
     ]
    }
   ],
   "source": [
    "# \"Facebook, Google, Microsoft, Apple, IBM, Oracle, Amazon\" split the string at the comma.\n",
    "\n",
    "company = 'Facebook, Google, Microsoft, Apple, IBM, Oracle, Amazon'\n",
    "\n",
    "result = company.split(',')\n",
    "print(result)"
   ]
  },
  {
   "cell_type": "code",
   "execution_count": 109,
   "metadata": {},
   "outputs": [
    {
     "name": "stdout",
     "output_type": "stream",
     "text": [
      "C\n"
     ]
    }
   ],
   "source": [
    "# What is the character at index 0 in the string Coding For All.\n",
    "\n",
    "company = 'Coding For All'\n",
    "\n",
    "print(company[0])\n"
   ]
  },
  {
   "cell_type": "code",
   "execution_count": 112,
   "metadata": {},
   "outputs": [
    {
     "name": "stdout",
     "output_type": "stream",
     "text": [
      "l\n"
     ]
    }
   ],
   "source": [
    "# What is the last index of the string Coding For All.\n",
    "\n",
    "company = 'Coding For All'\n",
    "\n",
    "print(company[-1])\n"
   ]
  },
  {
   "cell_type": "code",
   "execution_count": 113,
   "metadata": {},
   "outputs": [
    {
     "name": "stdout",
     "output_type": "stream",
     "text": [
      "Coding For\n"
     ]
    }
   ],
   "source": [
    "# What character is at index 10 in \"Coding For All\" string.\n",
    "\n",
    "company = 'Coding For All'\n",
    "\n",
    "print(company[:10])\n"
   ]
  },
  {
   "cell_type": "code",
   "execution_count": 122,
   "metadata": {},
   "outputs": [
    {
     "name": "stdout",
     "output_type": "stream",
     "text": [
      "Acronym for Python For Everyone is: PFE\n"
     ]
    }
   ],
   "source": [
    "# Create an acronym or an abbreviation for the name 'Python For Everyone'.\n",
    "\n",
    "name = 'Python For Everyone'\n",
    "\n",
    "result = name.split()\n",
    "\n",
    "# # Create the acronym by taking the first letter of each word\n",
    "acronym = ''.join([results[0].upper() for results in result])\n",
    "\n",
    "print(f'Acronym for Python For Everyone is: {acronym}')\n",
    "\n",
    "\n"
   ]
  },
  {
   "cell_type": "code",
   "execution_count": 123,
   "metadata": {},
   "outputs": [
    {
     "name": "stdout",
     "output_type": "stream",
     "text": [
      "Acronym for Coding For All is: CFA\n"
     ]
    }
   ],
   "source": [
    "# Create an acronym or an abbreviation for the name 'Coding For All'\n",
    "\n",
    "name = 'Coding For All'\n",
    "\n",
    "result = name.split()\n",
    "\n",
    "# # Create the acronym by taking the first letter of each word\n",
    "acronym = ''.join([results[0].upper() for results in result])\n",
    "\n",
    "print(f'Acronym for Coding For All is: {acronym}')"
   ]
  },
  {
   "cell_type": "code",
   "execution_count": 124,
   "metadata": {},
   "outputs": [
    {
     "name": "stdout",
     "output_type": "stream",
     "text": [
      "The position of the first occurrence of 'C' is: 0\n"
     ]
    }
   ],
   "source": [
    "# Use index to determine the position of the first occurrence of C in Coding For All.\n",
    "\n",
    "company = 'Coding For All'\n",
    "\n",
    "# Find the position of the first occurrence of 'C'\n",
    "position = company.index('C')\n",
    "\n",
    "# Print the position\n",
    "print(\"The position of the first occurrence of 'C' is:\", position)"
   ]
  },
  {
   "cell_type": "code",
   "execution_count": 1,
   "metadata": {},
   "outputs": [
    {
     "name": "stdout",
     "output_type": "stream",
     "text": [
      "The position of the first occurrence of  is: 7\n"
     ]
    }
   ],
   "source": [
    "# Use index to determine the position of the first occurrence of F in Coding For All.\n",
    "\n",
    "company = 'Coding For All'\n",
    "\n",
    "position = company.index('F')\n",
    "\n",
    "print(f'The position of the first occurrence of 'F' is: {position}')"
   ]
  },
  {
   "cell_type": "code",
   "execution_count": 4,
   "metadata": {},
   "outputs": [
    {
     "name": "stdout",
     "output_type": "stream",
     "text": [
      "The position of the last occurrence of 'l' is: 19\n"
     ]
    }
   ],
   "source": [
    "# Use rfind to determine the position of the last occurrence of l in Coding For All People.\n",
    "\n",
    "company = 'Coding For All People'\n",
    "\n",
    "position = company.rfind('l')\n",
    "\n",
    "print(f\"The position of the last occurrence of 'l' is: {position}\")\n"
   ]
  },
  {
   "cell_type": "code",
   "execution_count": 6,
   "metadata": {},
   "outputs": [
    {
     "name": "stdout",
     "output_type": "stream",
     "text": [
      "The position of the first occurrence of the word 'because' is: 31\n"
     ]
    }
   ],
   "source": [
    "# Use index or find to find the position of the first occurrence of the word 'because' in the following sentence: \n",
    "# 'You cannot end a sentence with because because because is a conjunction'\n",
    "\n",
    "sentence = 'You cannot end a sentence with because because because is a conjunction'\n",
    "\n",
    "position = sentence.find('because')\n",
    "\n",
    "print(f\"The position of the first occurrence of the word 'because' is: {position}\")"
   ]
  },
  {
   "cell_type": "code",
   "execution_count": 7,
   "metadata": {},
   "outputs": [
    {
     "name": "stdout",
     "output_type": "stream",
     "text": [
      "The position of the last occurrence of the word 'because' is: 47\n"
     ]
    }
   ],
   "source": [
    "# Use rindex to find the position of the last occurrence of the word because in the following sentence: \n",
    "# 'You cannot end a sentence with because because because is a conjunction'\n",
    "\n",
    "\n",
    "sentence = 'You cannot end a sentence with because because because is a conjunction'\n",
    "\n",
    "position = sentence.rfind('because')\n",
    "\n",
    "print(f\"The position of the last occurrence of the word 'because' is: {position}\")"
   ]
  },
  {
   "cell_type": "code",
   "execution_count": 15,
   "metadata": {},
   "outputs": [
    {
     "name": "stdout",
     "output_type": "stream",
     "text": [
      "The slice phrase is: because because because\n"
     ]
    }
   ],
   "source": [
    "# Slice out the phrase 'because because because' in the following sentence: \n",
    "# 'You cannot end a sentence with because because because is a conjunction'\n",
    "\n",
    "sentence = 'You cannot end a sentence with because because because is a conjunction'\n",
    "\n",
    "# Find the start index of 'because because because\n",
    "start_position = sentence.find('because because because')\n",
    "\n",
    "# Find the end index of 'because because because\n",
    "end_position = start_position + len('because because because')\n",
    "\n",
    "slice_out = sentence[start_position : end_position]\n",
    "\n",
    "\n",
    "print(f\"The slice phrase is: {slice_out}\")\n"
   ]
  },
  {
   "cell_type": "code",
   "execution_count": 16,
   "metadata": {},
   "outputs": [
    {
     "name": "stdout",
     "output_type": "stream",
     "text": [
      "The position of the first occurrence of the word 'because' is: 31\n"
     ]
    }
   ],
   "source": [
    "'''\n",
    "# Find the position of the first occurrence of the word 'because' in the following sentence: \n",
    "# 'You cannot end a sentence with because because because is a conjunction'\n",
    "'''\n",
    "\n",
    "sentence = 'You cannot end a sentence with because because because is a conjunction'\n",
    "\n",
    "position = sentence.find('because')\n",
    "\n",
    "print(f\"The position of the first occurrence of the word 'because' is: {position}\")"
   ]
  },
  {
   "cell_type": "code",
   "execution_count": 19,
   "metadata": {},
   "outputs": [
    {
     "name": "stdout",
     "output_type": "stream",
     "text": [
      "The slice phrase is: because because because\n"
     ]
    }
   ],
   "source": [
    "# Slice out the phrase 'because because because' in the following sentence: \n",
    "# 'You cannot end a sentence with because because because is a conjunction'\n",
    "\n",
    "sentence = 'You cannot end a sentence with because because because is a conjunction'\n",
    "\n",
    "first_position = sentence.find('because because because')\n",
    "\n",
    "last_postion = first_position + len('because because because')\n",
    "\n",
    "slice_out = sentence[first_position : last_postion]\n",
    "\n",
    "print(f'The slice phrase is: {slice_out}')"
   ]
  },
  {
   "cell_type": "code",
   "execution_count": 21,
   "metadata": {},
   "outputs": [
    {
     "name": "stdout",
     "output_type": "stream",
     "text": [
      "The code start with substring: True\n"
     ]
    }
   ],
   "source": [
    "# Does ''Coding For All' start with a substring Coding?\n",
    "\n",
    "company = 'Coding For All'\n",
    "\n",
    "string_check = company.startswith('Coding')\n",
    "\n",
    "print(f'The code start with substring: {string_check}')"
   ]
  },
  {
   "cell_type": "code",
   "execution_count": 26,
   "metadata": {},
   "outputs": [
    {
     "name": "stdout",
     "output_type": "stream",
     "text": [
      "The code end with substring: False\n"
     ]
    }
   ],
   "source": [
    "# Does 'Coding For All' end with a substring coding?\n",
    "\n",
    "company = 'Coding For All'\n",
    "\n",
    "string_check = company.endswith('Coding')\n",
    "\n",
    "print(f'The code end with substring: {string_check}')"
   ]
  },
  {
   "cell_type": "code",
   "execution_count": 27,
   "metadata": {},
   "outputs": [
    {
     "name": "stdout",
     "output_type": "stream",
     "text": [
      "Coding For All\n"
     ]
    }
   ],
   "source": [
    "# '   Coding For All      '  , remove the left and right trailing spaces in the given string.\n",
    "\n",
    "company = '   Coding For All      '\n",
    "\n",
    "result = company.strip()\n",
    "\n",
    "print(result)"
   ]
  },
  {
   "cell_type": "code",
   "execution_count": 30,
   "metadata": {},
   "outputs": [
    {
     "name": "stdout",
     "output_type": "stream",
     "text": [
      "Is '30DaysOfPython' a valid identifier?: False\n",
      "Is 'thirty_days_of_python' a valid identifier?: True\n"
     ]
    }
   ],
   "source": [
    "'''\n",
    "Which one of the following variables return True when we use the method isidentifier():\n",
    "30DaysOfPython\n",
    "thirty_days_of_python\n",
    "'''\n",
    "\n",
    "var1 = '30DaysOfPython'\n",
    "var2 = 'thirty_days_of_python'\n",
    "\n",
    "print(f\"Is '{var1}' a valid identifier?: {var1.isidentifier()}\")\n",
    "print(f\"Is '{var2}' a valid identifier?: {var2.isidentifier()}\")"
   ]
  },
  {
   "cell_type": "code",
   "execution_count": 35,
   "metadata": {},
   "outputs": [
    {
     "name": "stdout",
     "output_type": "stream",
     "text": [
      "Django Flask Bottle Pyramid Falcon\n"
     ]
    }
   ],
   "source": [
    "'''\n",
    "# The following list contains the names of some of python libraries: ['Django', 'Flask', 'Bottle', 'Pyramid', 'Falcon']. \n",
    "# Join the list with a hash with space string.\n",
    "'''\n",
    "\n",
    "libraries = ['Django', 'Flask', 'Bottle', 'Pyramid', 'Falcon']\n",
    "\n",
    "result = ' '.join(libraries)\n",
    "\n",
    "print(result)"
   ]
  },
  {
   "cell_type": "code",
   "execution_count": 38,
   "metadata": {},
   "outputs": [
    {
     "name": "stdout",
     "output_type": "stream",
     "text": [
      "I am enjoying this challenge.\n",
      "I just wonder what is next\n"
     ]
    }
   ],
   "source": [
    "'''\n",
    "Use the new line escape sequence to separate the following sentences.\n",
    "I am enjoying this challenge.\n",
    "I just wonder what is next.\n",
    "'''\n",
    "\n",
    "sentence = 'I am enjoying this challenge.\\nI just wonder what is next'\n",
    "print(sentence)\n"
   ]
  },
  {
   "cell_type": "code",
   "execution_count": 40,
   "metadata": {},
   "outputs": [
    {
     "name": "stdout",
     "output_type": "stream",
     "text": [
      "Name\tAge\tCountry\tCity\n",
      "Asabenah\t250\tFinland\tHelsinki\n"
     ]
    }
   ],
   "source": [
    "'''\n",
    "Use a tab escape sequence to write the following lines.\n",
    "Name      Age     Country   City\n",
    "Asabeneh  250     Finland   Helsinki\n",
    "'''\n",
    "header = 'Name\\tAge\\tCountry\\tCity'\n",
    "data = 'Asabenah\\t250\\tFinland\\tHelsinki'\n",
    "\n",
    "result = header + \"\\n\" + data\n",
    "\n",
    "print(result)\n"
   ]
  },
  {
   "cell_type": "code",
   "execution_count": 44,
   "metadata": {},
   "outputs": [
    {
     "name": "stdout",
     "output_type": "stream",
     "text": [
      "The area of circle is: 314.0 meters square\n"
     ]
    }
   ],
   "source": [
    "'''\n",
    "Use the string formatting method to display the following:\n",
    "radius = 10\n",
    "area = 3.14 * radius ** 2\n",
    "The area of a circle with radius 10 is 314 meters square.\n",
    "'''\n",
    "\n",
    "radius = 10\n",
    "area = 3.14 * radius ** 2\n",
    "\n",
    "print(f'The area of circle is: {area} meters square')"
   ]
  },
  {
   "cell_type": "code",
   "execution_count": 45,
   "metadata": {},
   "outputs": [
    {
     "name": "stdout",
     "output_type": "stream",
     "text": [
      "8 + 6 = 14\n",
      "8 - 6 = 2\n",
      "8 * 6 = 48\n",
      "8 / 6 = 1.3333333333333333\n",
      "8 % 6 = 2\n",
      "8 // 6 = 1\n",
      "8 ** 6 = 262144\n",
      "\n"
     ]
    }
   ],
   "source": [
    "'''\n",
    "Make the following using string formatting methods:\n",
    "8 + 6 = 14\n",
    "8 - 6 = 2\n",
    "8 * 6 = 48\n",
    "8 / 6 = 1.33\n",
    "8 % 6 = 2\n",
    "8 // 6 = 1\n",
    "8 ** 6 = 262144\n",
    "'''\n",
    "\n",
    "a = 8\n",
    "b = 6\n",
    "\n",
    "result = (\n",
    "    f'{a} + {b} = {a+b}\\n'\n",
    "    f'{a} - {b} = {a-b}\\n'\n",
    "    f'{a} * {b} = {a*b}\\n'\n",
    "    f'{a} / {b} = {a/b}\\n'\n",
    "    f'{a} % {b} = {a%b}\\n'\n",
    "    f'{a} // {b} = {a//b}\\n'\n",
    "    f'{a} ** {b} = {a**b}\\n'\n",
    ")\n",
    "\n",
    "print(result)"
   ]
  },
  {
   "cell_type": "code",
   "execution_count": null,
   "metadata": {},
   "outputs": [],
   "source": []
  }
 ],
 "metadata": {
  "kernelspec": {
   "display_name": "base",
   "language": "python",
   "name": "python3"
  },
  "language_info": {
   "codemirror_mode": {
    "name": "ipython",
    "version": 3
   },
   "file_extension": ".py",
   "mimetype": "text/x-python",
   "name": "python",
   "nbconvert_exporter": "python",
   "pygments_lexer": "ipython3",
   "version": "3.11.7"
  }
 },
 "nbformat": 4,
 "nbformat_minor": 2
}
