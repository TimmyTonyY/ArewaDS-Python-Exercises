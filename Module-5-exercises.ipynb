{
 "cells": [
  {
   "cell_type": "markdown",
   "metadata": {},
   "source": [
    "# Module 5: Lists"
   ]
  },
  {
   "cell_type": "markdown",
   "metadata": {},
   "source": [
    "# What is Lists?\n",
    "Lists are a versatile data structure used to store collections of items, which can be of different types. Lists are used to store multiple items in a single variable."
   ]
  },
  {
   "cell_type": "markdown",
   "metadata": {},
   "source": [
    "# Exercises: Level 1\n"
   ]
  },
  {
   "cell_type": "code",
   "execution_count": null,
   "metadata": {},
   "outputs": [],
   "source": [
    "# Declare an empty list\n",
    "\n",
    "company = []"
   ]
  },
  {
   "cell_type": "code",
   "execution_count": 6,
   "metadata": {},
   "outputs": [
    {
     "name": "stdout",
     "output_type": "stream",
     "text": [
      "['amazon', 'samsung', 'cocacola', 'iphone', 'tecno', 'itel']\n"
     ]
    }
   ],
   "source": [
    "# Declare a list with more than 5 items\n",
    "\n",
    "company = ['amazon','samsung','cocacola','iphone','tecno','itel']\n",
    "\n",
    "print(company)"
   ]
  },
  {
   "cell_type": "code",
   "execution_count": 7,
   "metadata": {},
   "outputs": [
    {
     "name": "stdout",
     "output_type": "stream",
     "text": [
      "6\n"
     ]
    }
   ],
   "source": [
    "# Find the length of your list\n",
    "\n",
    "company = ['amazon','samsung','cocacola','iphone','tecno','itel']\n",
    "\n",
    "print(len(company))"
   ]
  },
  {
   "cell_type": "code",
   "execution_count": 10,
   "metadata": {},
   "outputs": [
    {
     "name": "stdout",
     "output_type": "stream",
     "text": [
      "The First item is: Amazon\n",
      "The middle item is: Iphone\n",
      "The last item is: Itel\n"
     ]
    }
   ],
   "source": [
    "# Get the first item, the middle item and the last item of the list\n",
    "\n",
    "company = ['amazon','samsung','iphone','tecno','itel']\n",
    "\n",
    "print(f'The First item is: {company[0].title()}')\n",
    "print(f'The middle item is: {company[2].title()}')\n",
    "print(f'The last item is: {company[-1].title()}')"
   ]
  },
  {
   "cell_type": "code",
   "execution_count": 11,
   "metadata": {},
   "outputs": [
    {
     "name": "stdout",
     "output_type": "stream",
     "text": [
      "['Timileyin', '25', '6.3', 'single', 'osun']\n"
     ]
    }
   ],
   "source": [
    "# Declare a list called mixed_data_types, put your(name, age, height, marital status, address)\n",
    "\n",
    "mixed_data_types = ['Timileyin','25','6.3','single','osun']\n",
    "\n",
    "print(mixed_data_types)"
   ]
  },
  {
   "cell_type": "code",
   "execution_count": 14,
   "metadata": {},
   "outputs": [],
   "source": [
    "# Declare a list variable named it_companies and assign initial values Facebook, Google, Microsoft, Apple, IBM, Oracle and Amazon.\n",
    "\n",
    "it_companies = ['Facebook', 'Google', 'Microsoft', 'Apple', 'IBM', 'Oracle', 'Amazon']\n"
   ]
  },
  {
   "cell_type": "code",
   "execution_count": 13,
   "metadata": {},
   "outputs": [
    {
     "name": "stdout",
     "output_type": "stream",
     "text": [
      "['Facebook', 'Google', 'Microsoft', 'Apple', 'IBM', 'Oracle', 'Amazon']\n"
     ]
    }
   ],
   "source": [
    "# Print the list using print()\n",
    "\n",
    "print(it_companies)"
   ]
  },
  {
   "cell_type": "code",
   "execution_count": 15,
   "metadata": {},
   "outputs": [
    {
     "name": "stdout",
     "output_type": "stream",
     "text": [
      "The number of the companies is: 7\n"
     ]
    }
   ],
   "source": [
    "# Print the number of companies in the list\n",
    "\n",
    "print(f'The number of the companies is: {len(it_companies)}')"
   ]
  },
  {
   "cell_type": "code",
   "execution_count": 16,
   "metadata": {},
   "outputs": [
    {
     "name": "stdout",
     "output_type": "stream",
     "text": [
      "The First company is: Facebook\n",
      "The middle company is: Apple\n",
      "The last company is: Amazon\n"
     ]
    }
   ],
   "source": [
    "# Print the first, middle and last company\n",
    "\n",
    "it_companies = ['Facebook', 'Google', 'Microsoft', 'Apple', 'IBM', 'Oracle', 'Amazon']\n",
    "\n",
    "print(f'The First company is: {it_companies[0]}')\n",
    "print(f'The middle company is: {it_companies[3]}')\n",
    "print(f'The last company is: {it_companies[-1]}')"
   ]
  },
  {
   "cell_type": "code",
   "execution_count": 17,
   "metadata": {},
   "outputs": [
    {
     "name": "stdout",
     "output_type": "stream",
     "text": [
      "['Samsung', 'Google', 'Microsoft', 'Apple', 'IBM', 'Oracle', 'Amazon']\n"
     ]
    }
   ],
   "source": [
    "# Print the list after modifying one of the companies\n",
    "\n",
    "it_companies = ['Facebook', 'Google', 'Microsoft', 'Apple', 'IBM', 'Oracle', 'Amazon']\n",
    "\n",
    "it_companies[0] = 'Samsung'\n",
    "print(it_companies)"
   ]
  },
  {
   "cell_type": "code",
   "execution_count": 18,
   "metadata": {},
   "outputs": [
    {
     "name": "stdout",
     "output_type": "stream",
     "text": [
      "['Facebook', 'Google', 'Microsoft', 'Apple', 'IBM', 'Oracle', 'Amazon', 'IT Company']\n"
     ]
    }
   ],
   "source": [
    "# Add an IT company to it_companies\n",
    "\n",
    "it_companies = ['Facebook', 'Google', 'Microsoft', 'Apple', 'IBM', 'Oracle', 'Amazon']\n",
    "it_companies.append('IT Company')\n",
    "\n",
    "print(it_companies)"
   ]
  },
  {
   "cell_type": "code",
   "execution_count": 22,
   "metadata": {},
   "outputs": [
    {
     "name": "stdout",
     "output_type": "stream",
     "text": [
      "['Facebook', 'Google', 'Microsoft', 'IT company', 'Apple', 'IBM', 'Oracle', 'Amazon']\n"
     ]
    }
   ],
   "source": [
    "# Insert an IT company in the middle of the companies list\n",
    "\n",
    "it_companies = ['Facebook', 'Google', 'Microsoft', 'Apple', 'IBM', 'Oracle', 'Amazon']\n",
    "it_companies.insert(3 ,'IT company')\n",
    "\n",
    "print(it_companies)"
   ]
  },
  {
   "cell_type": "code",
   "execution_count": 32,
   "metadata": {},
   "outputs": [
    {
     "name": "stdout",
     "output_type": "stream",
     "text": [
      "['Facebook', 'Google', 'MICROSOFT', 'Apple', 'Oracle', 'Amazon']\n"
     ]
    }
   ],
   "source": [
    "# Change one of the it_companies names to uppercase (IBM excluded!)\n",
    "\n",
    "it_companies = ['Facebook', 'Google', 'Microsoft', 'Apple', 'IBM', 'Oracle', 'Amazon']\n",
    "\n",
    "it_companies.remove('IBM')\n",
    "\n",
    "it_companies[2] = 'MICROSOFT'\n",
    "\n",
    "print(it_companies)"
   ]
  },
  {
   "cell_type": "code",
   "execution_count": 33,
   "metadata": {},
   "outputs": [
    {
     "name": "stdout",
     "output_type": "stream",
     "text": [
      "['Facebook', 'Google', 'Microsoft', 'Apple', 'IBM', 'Oracle', 'Amazon', 'amazon', 'samsung', 'cocacola', 'iphone', 'tecno', 'itel']\n"
     ]
    }
   ],
   "source": [
    "# Join the it_companies with a string '#;  '\n",
    "\n",
    "it_companies = ['Facebook', 'Google', 'Microsoft', 'Apple', 'IBM', 'Oracle', 'Amazon']\n",
    "company = ['amazon','samsung','cocacola','iphone','tecno','itel']\n",
    "\n",
    "result = it_companies + company\n",
    "\n",
    "print(result)"
   ]
  },
  {
   "cell_type": "code",
   "execution_count": 39,
   "metadata": {},
   "outputs": [
    {
     "name": "stdout",
     "output_type": "stream",
     "text": [
      "True\n"
     ]
    }
   ],
   "source": [
    "# Check if a certain company exists in the it_companies list.\n",
    "\n",
    "it_companies = ['Facebook', 'Google', 'Microsoft', 'Apple', 'IBM', 'Oracle', 'Amazon']\n",
    "\n",
    "result = 'Google' in it_companies\n",
    "\n",
    "print(result)"
   ]
  },
  {
   "cell_type": "code",
   "execution_count": 41,
   "metadata": {},
   "outputs": [
    {
     "name": "stdout",
     "output_type": "stream",
     "text": [
      "['Amazon', 'Apple', 'Facebook', 'Google', 'IBM', 'Microsoft', 'Oracle']\n"
     ]
    }
   ],
   "source": [
    "# Sort the list using sort() method\n",
    "\n",
    "it_companies = ['Facebook', 'Google', 'Microsoft', 'Apple', 'IBM', 'Oracle', 'Amazon']\n",
    "\n",
    "it_companies.sort()\n",
    "\n",
    "print(it_companies)"
   ]
  },
  {
   "cell_type": "code",
   "execution_count": 43,
   "metadata": {},
   "outputs": [
    {
     "name": "stdout",
     "output_type": "stream",
     "text": [
      "['Oracle', 'Microsoft', 'IBM', 'Google', 'Facebook', 'Apple', 'Amazon']\n"
     ]
    }
   ],
   "source": [
    "# Reverse the list in descending order using reverse() method\n",
    "\n",
    "it_companies = ['Facebook', 'Google', 'Microsoft', 'Apple', 'IBM', 'Oracle', 'Amazon']\n",
    "\n",
    "it_companies.sort(reverse=True)\n",
    "\n",
    "print(it_companies)"
   ]
  },
  {
   "cell_type": "code",
   "execution_count": 45,
   "metadata": {},
   "outputs": [
    {
     "name": "stdout",
     "output_type": "stream",
     "text": [
      "['Facebook', 'Google', 'Microsoft']\n"
     ]
    }
   ],
   "source": [
    "# Slice out the first 3 companies from the list\n",
    "\n",
    "it_companies = ['Facebook', 'Google', 'Microsoft', 'Apple', 'IBM', 'Oracle', 'Amazon']\n",
    "\n",
    "print(it_companies[:3])"
   ]
  },
  {
   "cell_type": "code",
   "execution_count": 47,
   "metadata": {},
   "outputs": [
    {
     "name": "stdout",
     "output_type": "stream",
     "text": [
      "['IBM', 'Oracle', 'Amazon']\n"
     ]
    }
   ],
   "source": [
    "# Slice out the last 3 companies from the list\n",
    "\n",
    "it_companies = ['Facebook', 'Google', 'Microsoft', 'Apple', 'IBM', 'Oracle', 'Amazon']\n",
    "\n",
    "print(it_companies[-3:])"
   ]
  },
  {
   "cell_type": "code",
   "execution_count": 48,
   "metadata": {},
   "outputs": [
    {
     "name": "stdout",
     "output_type": "stream",
     "text": [
      "The middle company is: Apple\n"
     ]
    }
   ],
   "source": [
    "# Slice out the middle IT company or companies from the list\n",
    "\n",
    "it_companies = ['Facebook', 'Google', 'Microsoft', 'Apple', 'IBM', 'Oracle', 'Amazon']\n",
    "\n",
    "print(f'The middle company is: {it_companies[3]}')"
   ]
  },
  {
   "cell_type": "code",
   "execution_count": 54,
   "metadata": {},
   "outputs": [
    {
     "name": "stdout",
     "output_type": "stream",
     "text": [
      "['Google', 'Microsoft', 'Apple', 'IBM', 'Oracle', 'Amazon']\n"
     ]
    }
   ],
   "source": [
    "# Remove the first IT company from the list\n",
    "\n",
    "it_companies = ['Facebook', 'Google', 'Microsoft', 'Apple', 'IBM', 'Oracle', 'Amazon']\n",
    "\n",
    "it_companies.pop(0)\n",
    "\n",
    "print(it_companies)"
   ]
  },
  {
   "cell_type": "code",
   "execution_count": 56,
   "metadata": {},
   "outputs": [
    {
     "name": "stdout",
     "output_type": "stream",
     "text": [
      "['Facebook', 'Google', 'Microsoft', 'IBM', 'Oracle', 'Amazon']\n"
     ]
    }
   ],
   "source": [
    "# Remove the middle IT company or companies from the list\n",
    "\n",
    "it_companies = ['Facebook', 'Google', 'Microsoft', 'Apple', 'IBM', 'Oracle', 'Amazon']\n",
    "\n",
    "it_companies.pop(3)\n",
    "\n",
    "print(it_companies)"
   ]
  },
  {
   "cell_type": "code",
   "execution_count": 58,
   "metadata": {},
   "outputs": [
    {
     "name": "stdout",
     "output_type": "stream",
     "text": [
      "['Facebook', 'Google', 'Microsoft', 'Apple', 'IBM', 'Oracle']\n"
     ]
    }
   ],
   "source": [
    "# Remove the last IT company from the list\n",
    "\n",
    "it_companies = ['Facebook', 'Google', 'Microsoft', 'Apple', 'IBM', 'Oracle', 'Amazon']\n",
    "\n",
    "it_companies.pop()\n",
    "\n",
    "print(it_companies)"
   ]
  },
  {
   "cell_type": "code",
   "execution_count": 59,
   "metadata": {},
   "outputs": [
    {
     "name": "stdout",
     "output_type": "stream",
     "text": [
      "[]\n"
     ]
    }
   ],
   "source": [
    "# Remove all IT companies from the list\n",
    "\n",
    "it_companies = ['Facebook', 'Google', 'Microsoft', 'Apple', 'IBM', 'Oracle', 'Amazon']\n",
    "\n",
    "it_companies.clear()\n",
    "\n",
    "print(it_companies)"
   ]
  },
  {
   "cell_type": "code",
   "execution_count": 60,
   "metadata": {},
   "outputs": [
    {
     "name": "stdout",
     "output_type": "stream",
     "text": [
      "The company have been destroy\n"
     ]
    }
   ],
   "source": [
    "# Destroy the IT companies list\n",
    "\n",
    "it_companies = ['Facebook', 'Google', 'Microsoft', 'Apple', 'IBM', 'Oracle', 'Amazon']\n",
    "\n",
    "del it_companies\n",
    "\n",
    "print('The company have been destroy')"
   ]
  },
  {
   "cell_type": "code",
   "execution_count": 61,
   "metadata": {},
   "outputs": [
    {
     "name": "stdout",
     "output_type": "stream",
     "text": [
      "['HTML', 'CSS', 'JS', 'React', 'Redux', 'Node', 'Express', 'MongoDB']\n"
     ]
    }
   ],
   "source": [
    "'''\n",
    "Join the following lists:\n",
    "\n",
    "front_end = ['HTML', 'CSS', 'JS', 'React', 'Redux']\n",
    "back_end = ['Node','Express', 'MongoDB']\n",
    "'''\n",
    "front_end = ['HTML', 'CSS', 'JS', 'React', 'Redux']\n",
    "back_end = ['Node','Express', 'MongoDB']\n",
    "\n",
    "result = front_end + back_end\n",
    "\n",
    "print(result)\n"
   ]
  },
  {
   "cell_type": "code",
   "execution_count": 70,
   "metadata": {},
   "outputs": [
    {
     "name": "stdout",
     "output_type": "stream",
     "text": [
      "['HTML', 'CSS', 'JS', 'React', 'Redux', 'Python', 'SQL', 'Node', 'Express', 'MongoDB']\n"
     ]
    }
   ],
   "source": [
    "# After joining the lists in question 26. Copy the joined list and assign it to a variable full_stack, then insert Python and SQL after Redux.\n",
    "\n",
    "full_stack = ['HTML', 'CSS', 'JS', 'React', 'Redux', 'Node', 'Express', 'MongoDB']\n",
    "\n",
    "full_stack[5:5] = ['Python', 'SQL']\n",
    "\n",
    "print(full_stack)"
   ]
  },
  {
   "cell_type": "markdown",
   "metadata": {},
   "source": [
    "# Exercises: Level 2\n"
   ]
  },
  {
   "cell_type": "code",
   "execution_count": 72,
   "metadata": {},
   "outputs": [
    {
     "name": "stdout",
     "output_type": "stream",
     "text": [
      "[19, 22, 19, 24, 20, 25, 26, 24, 25, 24]\n"
     ]
    }
   ],
   "source": [
    "''' \n",
    "The following is a list of 10 students ages:\n",
    "ages = [19, 22, 19, 24, 20, 25, 26, 24, 25, 24]\n",
    "'''\n",
    "ages = [19, 22, 19, 24, 20, 25, 26, 24, 25, 24]\n",
    "print(ages)"
   ]
  },
  {
   "cell_type": "code",
   "execution_count": 75,
   "metadata": {},
   "outputs": [
    {
     "name": "stdout",
     "output_type": "stream",
     "text": [
      "The shorted age is: [19, 19, 20, 22, 24, 24, 24, 25, 25, 26]\n",
      "The minimum age is: 19\n",
      "The maximum age is: 26\n"
     ]
    }
   ],
   "source": [
    "# Sort the list and find the min and max age\n",
    "\n",
    "ages = [19, 22, 19, 24, 20, 25, 26, 24, 25, 24]\n",
    "ages.sort()\n",
    "print(f'The shorted age is: {ages}')\n",
    "\n",
    "min_ages = min(ages)\n",
    "print(f'The minimum age is: {min_ages}')\n",
    "\n",
    "max_age = max(ages)\n",
    "print(f'The maximum age is: {max_age}')"
   ]
  },
  {
   "cell_type": "code",
   "execution_count": 81,
   "metadata": {},
   "outputs": [
    {
     "name": "stdout",
     "output_type": "stream",
     "text": [
      "[19, 19, 19, 20, 22, 24, 24, 24, 25, 25, 26, 26]\n"
     ]
    }
   ],
   "source": [
    "# Add the min age and the max age again to the list\n",
    "\n",
    "ages = [19, 22, 19, 24, 20, 25, 26, 24, 25, 24]\n",
    "\n",
    "min_ages = min(ages)\n",
    "max_age = max(ages)\n",
    "\n",
    "ages.append(min_ages)\n",
    "ages.append(max_age)\n",
    "\n",
    "ages.sort()\n",
    "\n",
    "print(ages)"
   ]
  },
  {
   "cell_type": "code",
   "execution_count": 26,
   "metadata": {},
   "outputs": [
    {
     "name": "stdout",
     "output_type": "stream",
     "text": [
      "The sorted age is: [19, 19, 20, 22, 24, 24, 24, 25, 25, 26]\n",
      "The Length of age is: 10\n",
      "The Median Age is: [24, 24]\n",
      "The Median Age is: 24.0\n"
     ]
    }
   ],
   "source": [
    "# Find the median age (one middle item or two middle items divided by two)\n",
    "\n",
    "ages = [19, 22, 19, 24, 20, 25, 26, 24, 25, 24]\n",
    "\n",
    "ages.sort()\n",
    "print(f'The sorted age is: {ages}')\n",
    "\n",
    "count = len(ages)\n",
    "print(f'The Length of age is: {count}')\n",
    "\n",
    "middle_age = ages[4:6]\n",
    "print(f'The Median Age is: {middle_age}')\n",
    "\n",
    "median_age = (ages[5] + ages[6]) / 2\n",
    "print(f'The Median Age is: {median_age}')\n",
    "\n",
    "\n"
   ]
  },
  {
   "cell_type": "code",
   "execution_count": 86,
   "metadata": {},
   "outputs": [
    {
     "name": "stdout",
     "output_type": "stream",
     "text": [
      "The shorted age is: [19, 19, 20, 22, 24, 24, 24, 25, 25, 26]\n",
      "The total number of age is: 228\n",
      "The length of age is: 10\n",
      "The total Average age is: 22.8\n"
     ]
    }
   ],
   "source": [
    "# Find the average age (sum of all items divided by their number )\n",
    "\n",
    "ages = [19, 22, 19, 24, 20, 25, 26, 24, 25, 24]\n",
    "ages.sort()\n",
    "print(f'The shorted age is: {ages}')\n",
    "\n",
    "total_age = sum(ages)\n",
    "print(f'The total number of age is: {total_age}')\n",
    "\n",
    "length_age = len(ages)\n",
    "print(f'The length of age is: {length_age}')\n",
    "\n",
    "result = total_age / length_age\n",
    "print(f'The total Average age is: {result}')"
   ]
  },
  {
   "cell_type": "code",
   "execution_count": 1,
   "metadata": {},
   "outputs": [
    {
     "name": "stdout",
     "output_type": "stream",
     "text": [
      "The maximum age is: 26\n",
      "The minimum age is: 19\n",
      "The range age is: 7 \n"
     ]
    }
   ],
   "source": [
    "# Find the range of the ages (max minus min)\n",
    "\n",
    "ages = [19, 22, 19, 24, 20, 25, 26, 24, 25, 24]\n",
    "\n",
    "max_age = max(ages)\n",
    "print(f'The maximum age is: {max_age}')\n",
    "\n",
    "min_age = min(ages)\n",
    "print(f'The minimum age is: {min_age}')\n",
    "\n",
    "range = (max_age - min_age)\n",
    "print(f'The range age is: {range} ')\n"
   ]
  },
  {
   "cell_type": "code",
   "execution_count": 5,
   "metadata": {},
   "outputs": [
    {
     "name": "stdout",
     "output_type": "stream",
     "text": [
      "The Absolute Difference value of minumum and average is: 3.8000000000000007\n",
      "The Absolute Difference value of maximum and average is: 3.1999999999999993\n",
      "Minmum - Average has a larger absolute difference\n"
     ]
    }
   ],
   "source": [
    "# Compare the value of (min - average) and (max - average), use abs() method\n",
    "\n",
    "ages = [19, 22, 19, 24, 20, 25, 26, 24, 25, 24]\n",
    "\n",
    "# let find our average\n",
    "avg_value =  (sum(ages) / len(ages))\n",
    "\n",
    "# compare the value of min - average\n",
    "min_avg = abs(min(ages) - avg_value)\n",
    "print(f'The Absolute Difference value of minumum and average is: {min_avg}')\n",
    "\n",
    "# compare the value of max - average\n",
    "max_avg = abs(max(ages) - avg_value)\n",
    "print(f'The Absolute Difference value of maximum and average is: {max_avg}')\n",
    "\n",
    "# compare the value\n",
    "if min_age > max_avg:\n",
    "    print('Minmum - Average has a larger absolute difference')\n",
    "elif max_avg < min_age:\n",
    "    print('Maximum - Average has a larger absolute difference')\n",
    "else:\n",
    "    print('Both have the same absolute difference')"
   ]
  },
  {
   "cell_type": "code",
   "execution_count": 12,
   "metadata": {},
   "outputs": [
    {
     "name": "stdout",
     "output_type": "stream",
     "text": [
      "The Number of the country in the list is: 193\n",
      "The Middle country is: Lesotho\n"
     ]
    }
   ],
   "source": [
    "# Find the middle country(ies) in the countries list\n",
    "\n",
    "countries = [\n",
    "  'Afghanistan',\n",
    "  'Albania',\n",
    "  'Algeria',\n",
    "  'Andorra',\n",
    "  'Angola',\n",
    "  'Antigua and Barbuda',\n",
    "  'Argentina',\n",
    "  'Armenia',\n",
    "  'Australia',\n",
    "  'Austria',\n",
    "  'Azerbaijan',\n",
    "  'Bahamas',\n",
    "  'Bahrain',\n",
    "  'Bangladesh',\n",
    "  'Barbados',\n",
    "  'Belarus',\n",
    "  'Belgium',\n",
    "  'Belize',\n",
    "  'Benin',\n",
    "  'Bhutan',\n",
    "  'Bolivia',\n",
    "  'Bosnia and Herzegovina',\n",
    "  'Botswana',\n",
    "  'Brazil',\n",
    "  'Brunei',\n",
    "  'Bulgaria',\n",
    "  'Burkina Faso',\n",
    "  'Burundi',\n",
    "  'Cambodia',\n",
    "  'Cameroon',\n",
    "  'Canada',\n",
    "  'Cape Verde',\n",
    "  'Central African Republic',\n",
    "  'Chad',\n",
    "  'Chile',\n",
    "  'China',\n",
    "  'Colombi',\n",
    "  'Comoros',\n",
    "  'Congo (Brazzaville)',\n",
    "  'Congo',\n",
    "  'Costa Rica',\n",
    "  \"Cote d'Ivoire\",\n",
    "  'Croatia',\n",
    "  'Cuba',\n",
    "  'Cyprus',\n",
    "  'Czech Republic',\n",
    "  'Denmark',\n",
    "  'Djibouti',\n",
    "  'Dominica',\n",
    "  'Dominican Republic',\n",
    "  'East Timor (Timor Timur)',\n",
    "  'Ecuador',\n",
    "  'Egypt',\n",
    "  'El Salvador',\n",
    "  'Equatorial Guinea',\n",
    "  'Eritrea',\n",
    "  'Estonia',\n",
    "  'Ethiopia',\n",
    "  'Fiji',\n",
    "  'Finland',\n",
    "  'France',\n",
    "  'Gabon',\n",
    "  'Gambia, The',\n",
    "  'Georgia',\n",
    "  'Germany',\n",
    "  'Ghana',\n",
    "  'Greece',\n",
    "  'Grenada',\n",
    "  'Guatemala',\n",
    "  'Guinea',\n",
    "  'Guinea-Bissau',\n",
    "  'Guyana',\n",
    "  'Haiti',\n",
    "  'Honduras',\n",
    "  'Hungary',\n",
    "  'Iceland',\n",
    "  'India',\n",
    "  'Indonesia',\n",
    "  'Iran',\n",
    "  'Iraq',\n",
    "  'Ireland',\n",
    "  'Israel',\n",
    "  'Italy',\n",
    "  'Jamaica',\n",
    "  'Japan',\n",
    "  'Jordan',\n",
    "  'Kazakhstan',\n",
    "  'Kenya',\n",
    "  'Kiribati',\n",
    "  'Korea, North',\n",
    "  'Korea, South',\n",
    "  'Kuwait',\n",
    "  'Kyrgyzstan',\n",
    "  'Laos',\n",
    "  'Latvia',\n",
    "  'Lebanon',\n",
    "  'Lesotho',\n",
    "  'Liberia',\n",
    "  'Libya',\n",
    "  'Liechtenstein',\n",
    "  'Lithuania',\n",
    "  'Luxembourg',\n",
    "  'Macedonia',\n",
    "  'Madagascar',\n",
    "  'Malawi',\n",
    "  'Malaysia',\n",
    "  'Maldives',\n",
    "  'Mali',\n",
    "  'Malta',\n",
    "  'Marshall Islands',\n",
    "  'Mauritania',\n",
    "  'Mauritius',\n",
    "  'Mexico',\n",
    "  'Micronesia',\n",
    "  'Moldova',\n",
    "  'Monaco',\n",
    "  'Mongolia',\n",
    "  'Morocco',\n",
    "  'Mozambique',\n",
    "  'Myanmar',\n",
    "  'Namibia',\n",
    "  'Nauru',\n",
    "  'Nepal',\n",
    "  'Netherlands',\n",
    "  'New Zealand',\n",
    "  'Nicaragua',\n",
    "  'Niger',\n",
    "  'Nigeria',\n",
    "  'Norway',\n",
    "  'Oman',\n",
    "  'Pakistan',\n",
    "  'Palau',\n",
    "  'Panama',\n",
    "  'Papua New Guinea',\n",
    "  'Paraguay',\n",
    "  'Peru',\n",
    "  'Philippines',\n",
    "  'Poland',\n",
    "  'Portugal',\n",
    "  'Qatar',\n",
    "  'Romania',\n",
    "  'Russia',\n",
    "  'Rwanda',\n",
    "  'Saint Kitts and Nevis',\n",
    "  'Saint Lucia',\n",
    "  'Saint Vincent',\n",
    "  'Samoa',\n",
    "  'San Marino',\n",
    "  'Sao Tome and Principe',\n",
    "  'Saudi Arabia',\n",
    "  'Senegal',\n",
    "  'Serbia and Montenegro',\n",
    "  'Seychelles',\n",
    "  'Sierra Leone',\n",
    "  'Singapore',\n",
    "  'Slovakia',\n",
    "  'Slovenia',\n",
    "  'Solomon Islands',\n",
    "  'Somalia',\n",
    "  'South Africa',\n",
    "  'Spain',\n",
    "  'Sri Lanka',\n",
    "  'Sudan',\n",
    "  'Suriname',\n",
    "  'Swaziland',\n",
    "  'Sweden',\n",
    "  'Switzerland',\n",
    "  'Syria',\n",
    "  'Taiwan',\n",
    "  'Tajikistan',\n",
    "  'Tanzania',\n",
    "  'Thailand',\n",
    "  'Togo',\n",
    "  'Tonga',\n",
    "  'Trinidad and Tobago',\n",
    "  'Tunisia',\n",
    "  'Turkey',\n",
    "  'Turkmenistan',\n",
    "  'Tuvalu',\n",
    "  'Uganda',\n",
    "  'Ukraine',\n",
    "  'United Arab Emirates',\n",
    "  'United Kingdom',\n",
    "  'United States',\n",
    "  'Uruguay',\n",
    "  'Uzbekistan',\n",
    "  'Vanuatu',\n",
    "  'Vatican City',\n",
    "  'Venezuela',\n",
    "  'Vietnam',\n",
    "  'Yemen',\n",
    "  'Zambia',\n",
    "  'Zimbabwe',\n",
    "]\n",
    "\n",
    "count = len(countries)\n",
    "print(f'The Number of the country in the list is: {count}')\n",
    "\n",
    "middle_country = countries[96]\n",
    "print(f'The Middle country is: {middle_country}')"
   ]
  },
  {
   "cell_type": "code",
   "execution_count": 15,
   "metadata": {},
   "outputs": [
    {
     "name": "stdout",
     "output_type": "stream",
     "text": [
      "First Country = ['Afghanistan', 'Albania', 'Algeria', 'Andorra', 'Angola', 'Antigua and Barbuda', 'Argentina', 'Armenia', 'Australia', 'Austria', 'Azerbaijan', 'Bahamas', 'Bahrain', 'Bangladesh', 'Barbados', 'Belarus', 'Belgium', 'Belize', 'Benin', 'Bhutan', 'Bolivia', 'Bosnia and Herzegovina', 'Botswana', 'Brazil', 'Brunei', 'Bulgaria', 'Burkina Faso', 'Burundi', 'Cambodia', 'Cameroon', 'Canada', 'Cape Verde', 'Central African Republic', 'Chad', 'Chile', 'China', 'Colombi', 'Comoros', 'Congo (Brazzaville)', 'Congo', 'Costa Rica', \"Cote d'Ivoire\", 'Croatia', 'Cuba', 'Cyprus', 'Czech Republic', 'Denmark', 'Djibouti', 'Dominica', 'Dominican Republic', 'East Timor (Timor Timur)', 'Ecuador', 'Egypt', 'El Salvador', 'Equatorial Guinea', 'Eritrea', 'Estonia', 'Ethiopia', 'Fiji', 'Finland', 'France', 'Gabon', 'Gambia, The', 'Georgia', 'Germany', 'Ghana', 'Greece', 'Grenada', 'Guatemala', 'Guinea', 'Guinea-Bissau', 'Guyana', 'Haiti', 'Honduras', 'Hungary', 'Iceland', 'India', 'Indonesia', 'Iran', 'Iraq', 'Ireland', 'Israel', 'Italy', 'Jamaica', 'Japan', 'Jordan', 'Kazakhstan', 'Kenya', 'Kiribati', 'Korea, North', 'Korea, South', 'Kuwait', 'Kyrgyzstan', 'Laos', 'Latvia', 'Lebanon']\n",
      "Seconf Country = ['Lesotho', 'Liberia', 'Libya', 'Liechtenstein', 'Lithuania', 'Luxembourg', 'Macedonia', 'Madagascar', 'Malawi', 'Malaysia', 'Maldives', 'Mali', 'Malta', 'Marshall Islands', 'Mauritania', 'Mauritius', 'Mexico', 'Micronesia', 'Moldova', 'Monaco', 'Mongolia', 'Morocco', 'Mozambique', 'Myanmar', 'Namibia', 'Nauru', 'Nepal', 'Netherlands', 'New Zealand', 'Nicaragua', 'Niger', 'Nigeria', 'Norway', 'Oman', 'Pakistan', 'Palau', 'Panama', 'Papua New Guinea', 'Paraguay', 'Peru', 'Philippines', 'Poland', 'Portugal', 'Qatar', 'Romania', 'Russia', 'Rwanda', 'Saint Kitts and Nevis', 'Saint Lucia', 'Saint Vincent', 'Samoa', 'San Marino', 'Sao Tome and Principe', 'Saudi Arabia', 'Senegal', 'Serbia and Montenegro', 'Seychelles', 'Sierra Leone', 'Singapore', 'Slovakia', 'Slovenia', 'Solomon Islands', 'Somalia', 'South Africa', 'Spain', 'Sri Lanka', 'Sudan', 'Suriname', 'Swaziland', 'Sweden', 'Switzerland', 'Syria', 'Taiwan', 'Tajikistan', 'Tanzania', 'Thailand', 'Togo', 'Tonga', 'Trinidad and Tobago', 'Tunisia', 'Turkey', 'Turkmenistan', 'Tuvalu', 'Uganda', 'Ukraine', 'United Arab Emirates', 'United Kingdom', 'United States', 'Uruguay', 'Uzbekistan', 'Vanuatu', 'Vatican City', 'Venezuela', 'Vietnam', 'Yemen', 'Zambia', 'Zimbabwe']\n"
     ]
    }
   ],
   "source": [
    "# Divide the countries list into two equal lists if it is even if not one more country for the first half.\n",
    "\n",
    "first_country = countries[:96]\n",
    "second_country = countries[96:]\n",
    "\n",
    "print(f'First Country = {first_country}')\n",
    "print(f'Seconf Country = {second_country}')"
   ]
  },
  {
   "cell_type": "code",
   "execution_count": 7,
   "metadata": {},
   "outputs": [
    {
     "name": "stdout",
     "output_type": "stream",
     "text": [
      "First Country is: China\n",
      "Second Country is: Russia\n",
      "Third Country is: USA\n",
      "Scandic Country is: ['Finland', 'Sweden', 'Norway', 'Denmark']\n"
     ]
    }
   ],
   "source": [
    "# ['China', 'Russia', 'USA', 'Finland', 'Sweden', 'Norway', 'Denmark']. Unpack the first three countries and the rest as scandic countries.\n",
    "\n",
    "countries = ['China', 'Russia', 'USA', 'Finland', 'Sweden', 'Norway', 'Denmark']\n",
    "\n",
    "first_country,second_country,third_country, * scandic_country = countries\n",
    "\n",
    "print(f'First Country is: {first_country}')\n",
    "print(f'Second Country is: {second_country}')\n",
    "print(f'Third Country is: {third_country}')\n",
    "print(f'Scandic Country is: {scandic_country}')"
   ]
  },
  {
   "cell_type": "markdown",
   "metadata": {},
   "source": [
    "# Tuples"
   ]
  },
  {
   "cell_type": "markdown",
   "metadata": {},
   "source": [
    "## What is Tuples?\n",
    "\n",
    "A tuple is a data structure that contains a specific number and sequence of elements. A tuple is a built-in data structure in Python that is used to store multiple items in a single variable."
   ]
  },
  {
   "cell_type": "markdown",
   "metadata": {},
   "source": [
    "# Tuple Exercises"
   ]
  },
  {
   "cell_type": "markdown",
   "metadata": {},
   "source": [
    "## Tuple Exercises: Level 1"
   ]
  },
  {
   "cell_type": "code",
   "execution_count": null,
   "metadata": {},
   "outputs": [],
   "source": [
    "# Create an empty tuple\n",
    "\n",
    "family = ()"
   ]
  },
  {
   "cell_type": "code",
   "execution_count": 31,
   "metadata": {},
   "outputs": [
    {
     "name": "stdout",
     "output_type": "stream",
     "text": [
      "('adeola', 'adetola', 'adebola', 'temitope')\n",
      "('olaoluwa', 'anthony', 'tosin', 'damola')\n"
     ]
    }
   ],
   "source": [
    "# Create a tuple containing names of your sisters and your brothers (imaginary siblings are fine)\n",
    "\n",
    "sisters = ('adeola','adetola','adebola','temitope')\n",
    "brothers = ('olaoluwa','anthony','tosin','damola')\n",
    "\n",
    "print(sisters)\n",
    "print(brothers)"
   ]
  },
  {
   "cell_type": "code",
   "execution_count": 32,
   "metadata": {},
   "outputs": [
    {
     "name": "stdout",
     "output_type": "stream",
     "text": [
      "('adeola', 'adetola', 'adebola', 'temitope', 'olaoluwa', 'anthony', 'tosin', 'damola')\n"
     ]
    }
   ],
   "source": [
    "# Join brothers and sisters tuples and assign it to siblings\n",
    "\n",
    "sisters = ('adeola','adetola','adebola','temitope')\n",
    "brothers = ('olaoluwa','anthony','tosin','damola')\n",
    "siblings = sisters + brothers\n",
    "\n",
    "print(siblings)"
   ]
  },
  {
   "cell_type": "code",
   "execution_count": 33,
   "metadata": {},
   "outputs": [
    {
     "name": "stdout",
     "output_type": "stream",
     "text": [
      "The number of siblings that i have is: 8\n"
     ]
    }
   ],
   "source": [
    "# How many siblings do you have?\n",
    "\n",
    "num_of_siblings = len(siblings)\n",
    "print(f'The number of siblings that i have is: {num_of_siblings}')"
   ]
  },
  {
   "cell_type": "code",
   "execution_count": 43,
   "metadata": {},
   "outputs": [
    {
     "name": "stdout",
     "output_type": "stream",
     "text": [
      "('sade', 'tunde', 'adeola', 'adetola', 'adebola', 'temitope', 'olaoluwa', 'anthony', 'tosin', 'damola')\n"
     ]
    }
   ],
   "source": [
    "# Modify the siblings tuple and add the name of your father and mother and assign it to family_members\n",
    "\n",
    "siblings = ('adeola', 'adetola', 'adebola', 'temitope', 'olaoluwa', 'anthony', 'tosin', 'damola')\n",
    "mother_father = ('sade', 'tunde')\n",
    "\n",
    "\n",
    "family_members =  mother_father + siblings\n",
    "\n",
    "print(family_members)\n"
   ]
  },
  {
   "cell_type": "markdown",
   "metadata": {},
   "source": [
    "## Tuple Exercises: Level 2"
   ]
  },
  {
   "cell_type": "code",
   "execution_count": 46,
   "metadata": {},
   "outputs": [
    {
     "name": "stdout",
     "output_type": "stream",
     "text": [
      "Siblings are: ('adeola', 'adetola', 'adebola', 'temitope', 'olaoluwa', 'anthony', 'tosin', 'damola')\n",
      "parents are: ('sade', 'tunde')\n"
     ]
    }
   ],
   "source": [
    "# Unpack siblings and parents from family_members\n",
    "\n",
    "family_members = ('sade', 'tunde', 'adeola', 'adetola', 'adebola', 'temitope', 'olaoluwa', 'anthony', 'tosin', 'damola')\n",
    "\n",
    "siblings = family_members[2:]\n",
    "parents = family_members[:2]\n",
    "\n",
    "print(f'Siblings are: {siblings}')\n",
    "print(f'parents are: {parents}')"
   ]
  },
  {
   "cell_type": "code",
   "execution_count": 48,
   "metadata": {},
   "outputs": [
    {
     "name": "stdout",
     "output_type": "stream",
     "text": [
      "('apple', 'orange', 'banana', 'carrot', 'tomato', 'garlic', 'cow', 'lion', 'goat')\n"
     ]
    }
   ],
   "source": [
    "# Create fruits, vegetables and animal products tuples. Join the three tuples and assign it to a variable called food_stuff_tp.\n",
    "\n",
    "fruits = ('apple','orange','banana')\n",
    "vegetables = ('carrot','tomato','garlic')\n",
    "animal = ('cow','lion','goat')\n",
    "\n",
    "food_stuff_tp = fruits + vegetables + animal\n",
    "\n",
    "print(food_stuff_tp)"
   ]
  },
  {
   "cell_type": "code",
   "execution_count": 50,
   "metadata": {},
   "outputs": [
    {
     "name": "stdout",
     "output_type": "stream",
     "text": [
      "['apple', 'orange', 'banana', 'carrot', 'tomato', 'garlic', 'cow', 'lion', 'goat']\n"
     ]
    }
   ],
   "source": [
    "# Change the about food_stuff_tp tuple to a food_stuff_lt list\n",
    "\n",
    "food_stuff_tp = ('apple', 'orange', 'banana', 'carrot', 'tomato', 'garlic', 'cow', 'lion', 'goat')\n",
    "\n",
    "food_stuff_lt = list(food_stuff_tp)\n",
    "print(food_stuff_lt)"
   ]
  },
  {
   "cell_type": "code",
   "execution_count": 51,
   "metadata": {},
   "outputs": [
    {
     "name": "stdout",
     "output_type": "stream",
     "text": [
      "The middle slice out is: tomato\n"
     ]
    }
   ],
   "source": [
    "# Slice out the middle item or items from the food_stuff_tp tuple or food_stuff_lt list.\n",
    "\n",
    "food_stuff_tp = ('apple', 'orange', 'banana', 'carrot', 'tomato', 'garlic', 'cow', 'lion', 'goat')\n",
    "\n",
    "slice_middle = food_stuff_tp[4]\n",
    "print(f'The middle slice out is: {slice_middle}')"
   ]
  },
  {
   "cell_type": "code",
   "execution_count": 54,
   "metadata": {},
   "outputs": [
    {
     "name": "stdout",
     "output_type": "stream",
     "text": [
      "The First Three Items is: ['apple', 'orange', 'banana']\n",
      "The Last Three Items is: ['cow', 'lion', 'goat']\n"
     ]
    }
   ],
   "source": [
    "# Slice out the first three items and the last three items from food_staff_lt list\n",
    "\n",
    "food_stuff_lt = ['apple', 'orange', 'banana', 'carrot', 'tomato', 'garlic', 'cow', 'lion', 'goat']\n",
    "\n",
    "first_three_items = food_stuff_lt[:3]\n",
    "last_three_items = food_stuff_lt[-3:]\n",
    "\n",
    "\n",
    "print(f'The First Three Items is: {first_three_items}')\n",
    "print(f'The Last Three Items is: {last_three_items}')"
   ]
  },
  {
   "cell_type": "code",
   "execution_count": 55,
   "metadata": {},
   "outputs": [
    {
     "name": "stdout",
     "output_type": "stream",
     "text": [
      "Foof Staff tupe has delete\n"
     ]
    }
   ],
   "source": [
    "# Delete the food_staff_tp tuple completely\n",
    "\n",
    "food_staff_tp = ('apple', 'orange', 'banana', 'carrot', 'tomato', 'garlic', 'cow', 'lion', 'goat')\n",
    "\n",
    "del food_staff_tp\n",
    "\n",
    "print('Foof Staff tupe has delete')"
   ]
  },
  {
   "cell_type": "code",
   "execution_count": 65,
   "metadata": {},
   "outputs": [
    {
     "name": "stdout",
     "output_type": "stream",
     "text": [
      "Is Estonia a Nordic country? False\n",
      "Is Iceland a Nordic country? True\n"
     ]
    }
   ],
   "source": [
    "'''\n",
    "Check if an item exists in tuple:\n",
    "(i) Check if 'Estonia' is a nordic country\n",
    "(ii) Check if 'Iceland' is a nordic country\n",
    "\n",
    "nordic_countries = ('Denmark', 'Finland','Iceland', 'Norway', 'Sweden')\n",
    "'''\n",
    "\n",
    "nordic_countries = ('Denmark', 'Finland','Iceland', 'Norway', 'Sweden')\n",
    "\n",
    "is_estonia = 'Estonia' in nordic_countries\n",
    "print(f\"Is Estonia a Nordic country? {is_estonia}\")\n",
    "\n",
    "is_iceland = 'Iceland' in nordic_countries\n",
    "print(f\"Is Iceland a Nordic country? {is_iceland}\")"
   ]
  },
  {
   "cell_type": "markdown",
   "metadata": {},
   "source": [
    "# Sets"
   ]
  },
  {
   "cell_type": "markdown",
   "metadata": {},
   "source": [
    "## What is Sets?\n",
    "A set in Python is an unordered collection of unique elements. Sets are useful when you need to store multiple items, but don't care about the order and want to ensure that there are no duplicates."
   ]
  },
  {
   "cell_type": "markdown",
   "metadata": {},
   "source": [
    "# Sets Exercises: Level 1"
   ]
  },
  {
   "cell_type": "code",
   "execution_count": null,
   "metadata": {},
   "outputs": [],
   "source": [
    "'''\n",
    "# sets\n",
    "it_companies = {'Facebook', 'Google', 'Microsoft', 'Apple', 'IBM', 'Oracle', 'Amazon'}\n",
    "A = {19, 22, 24, 20, 25, 26}\n",
    "B = {19, 22, 20, 25, 26, 24, 28, 27}\n",
    "age = [22, 19, 24, 25, 26, 24, 25, 24]\n",
    "'''"
   ]
  },
  {
   "cell_type": "code",
   "execution_count": 3,
   "metadata": {},
   "outputs": [
    {
     "name": "stdout",
     "output_type": "stream",
     "text": [
      "The number of is: 7\n"
     ]
    }
   ],
   "source": [
    "# Find the length of the set it_companies\n",
    "\n",
    "length_company =len(it_companies)\n",
    "print(f'The number of is: {length_company}')"
   ]
  },
  {
   "cell_type": "code",
   "execution_count": 8,
   "metadata": {},
   "outputs": [
    {
     "name": "stdout",
     "output_type": "stream",
     "text": [
      "{'IBM', 'Apple', 'Google', 'Twitter', 'Facebook', 'Oracle', 'Amazon', 'Microsoft'}\n"
     ]
    }
   ],
   "source": [
    "# Add 'Twitter' to it_companies\n",
    "\n",
    "it_companies.add('Twitter')\n",
    "print(it_companies)"
   ]
  },
  {
   "cell_type": "code",
   "execution_count": 14,
   "metadata": {},
   "outputs": [
    {
     "name": "stdout",
     "output_type": "stream",
     "text": [
      "{'Google', 'Microsoft', 'IBM', 'Samsung', 'Amazon', 'SQL', 'Apple', 'Oracle', 'Facebook', 'Benz'}\n"
     ]
    }
   ],
   "source": [
    "# Insert multiple IT companies at once to the set it_companies\n",
    "\n",
    "it_companies = {'Facebook', 'Google', 'Microsoft', 'Apple', 'IBM', 'Oracle', 'Amazon'}\n",
    "mult_company = ('SQL', 'Benz' ,'Samsung')\n",
    "it_companies.update(mult_company)\n",
    "print(it_companies)"
   ]
  },
  {
   "cell_type": "code",
   "execution_count": 15,
   "metadata": {},
   "outputs": [
    {
     "name": "stdout",
     "output_type": "stream",
     "text": [
      "{'IBM', 'Apple', 'Google', 'Facebook', 'Oracle', 'Microsoft'}\n"
     ]
    }
   ],
   "source": [
    "# Remove one of the companies from the set it_companies\n",
    "\n",
    "it_companies = {'Facebook', 'Google', 'Microsoft', 'Apple', 'IBM', 'Oracle', 'Amazon'}\n",
    "it_companies.remove('Amazon')\n",
    "print(it_companies)"
   ]
  },
  {
   "cell_type": "code",
   "execution_count": 19,
   "metadata": {},
   "outputs": [
    {
     "data": {
      "text/plain": [
       "' When the specified element does not exist in the given set, the remove() function raises an error. \\nWhereas the discard() method does not raise an error\\n'"
      ]
     },
     "execution_count": 19,
     "metadata": {},
     "output_type": "execute_result"
    }
   ],
   "source": [
    "# What is the difference between remove and discard\n",
    "\n",
    "\n",
    "''' When the specified element does not exist in the given set, the remove() function raises an error. \n",
    "Whereas the discard() method does not raise an error\n",
    "'''"
   ]
  },
  {
   "cell_type": "markdown",
   "metadata": {},
   "source": [
    "# Sets Exercises: Level 2"
   ]
  },
  {
   "cell_type": "code",
   "execution_count": null,
   "metadata": {},
   "outputs": [],
   "source": [
    "'''\n",
    "sets\n",
    "A = {19, 22, 24, 20, 25, 26}\n",
    "B = {19, 22, 20, 25, 26, 24, 28, 27}\n",
    "'''"
   ]
  },
  {
   "cell_type": "code",
   "execution_count": 22,
   "metadata": {},
   "outputs": [
    {
     "name": "stdout",
     "output_type": "stream",
     "text": [
      "{19, 20, 22, 24, 25, 26, 27, 28}\n"
     ]
    }
   ],
   "source": [
    "# Join A and B\n",
    "\n",
    "A = {19, 22, 24, 20, 25, 26}\n",
    "B = {19, 22, 20, 25, 26, 24, 28, 27}\n",
    "\n",
    "C = A.union(B)\n",
    "print(C)"
   ]
  },
  {
   "cell_type": "code",
   "execution_count": 23,
   "metadata": {},
   "outputs": [
    {
     "data": {
      "text/plain": [
       "{19, 20, 22, 24, 25, 26}"
      ]
     },
     "execution_count": 23,
     "metadata": {},
     "output_type": "execute_result"
    }
   ],
   "source": [
    "# Find A intersection B\n",
    "\n",
    "A = {19, 22, 24, 20, 25, 26}\n",
    "B = {19, 22, 20, 25, 26, 24, 28, 27}\n",
    "\n",
    "A.intersection(B)"
   ]
  },
  {
   "cell_type": "code",
   "execution_count": 24,
   "metadata": {},
   "outputs": [
    {
     "data": {
      "text/plain": [
       "True"
      ]
     },
     "execution_count": 24,
     "metadata": {},
     "output_type": "execute_result"
    }
   ],
   "source": [
    "# Is A subset of B\n",
    "\n",
    "A = {19, 22, 24, 20, 25, 26}\n",
    "B = {19, 22, 20, 25, 26, 24, 28, 27}\n",
    "\n",
    "A.issubset(B)"
   ]
  },
  {
   "cell_type": "code",
   "execution_count": 25,
   "metadata": {},
   "outputs": [
    {
     "data": {
      "text/plain": [
       "False"
      ]
     },
     "execution_count": 25,
     "metadata": {},
     "output_type": "execute_result"
    }
   ],
   "source": [
    "# Are A and B disjoint sets\n",
    "\n",
    "A = {19, 22, 24, 20, 25, 26}\n",
    "B = {19, 22, 20, 25, 26, 24, 28, 27}\n",
    "\n",
    "A.isdisjoint(B)"
   ]
  },
  {
   "cell_type": "code",
   "execution_count": 26,
   "metadata": {},
   "outputs": [
    {
     "name": "stdout",
     "output_type": "stream",
     "text": [
      "A and B join: {19, 20, 22, 24, 25, 26, 27, 28}\n",
      "B and A join: {19, 20, 22, 24, 25, 26, 27, 28}\n"
     ]
    }
   ],
   "source": [
    "# Join A with B and B with A\n",
    "\n",
    "A = {19, 22, 24, 20, 25, 26}\n",
    "B = {19, 22, 20, 25, 26, 24, 28, 27}\n",
    "\n",
    "# Join A with B\n",
    "a_b = A.union(B)\n",
    "print(f'A and B join: {a_b}')\n",
    "\n",
    "# Join B with A\n",
    "b_a = B.union(A)\n",
    "print(f'B and A join: {b_a}')"
   ]
  },
  {
   "cell_type": "code",
   "execution_count": 27,
   "metadata": {},
   "outputs": [
    {
     "data": {
      "text/plain": [
       "{27, 28}"
      ]
     },
     "execution_count": 27,
     "metadata": {},
     "output_type": "execute_result"
    }
   ],
   "source": [
    "# What is the symmetric difference between A and B\n",
    "\n",
    "A = {19, 22, 24, 20, 25, 26}\n",
    "B = {19, 22, 20, 25, 26, 24, 28, 27}\n",
    "\n",
    "A.symmetric_difference(B)"
   ]
  },
  {
   "cell_type": "code",
   "execution_count": 28,
   "metadata": {},
   "outputs": [
    {
     "name": "stdout",
     "output_type": "stream",
     "text": [
      "Set A has been deleted\n",
      "Set B has been deleted\n"
     ]
    }
   ],
   "source": [
    "# Delete the sets completely\n",
    "\n",
    "A = {19, 22, 24, 20, 25, 26}\n",
    "B = {19, 22, 20, 25, 26, 24, 28, 27}\n",
    "\n",
    "del A\n",
    "print(f'Set A has been deleted')\n",
    "\n",
    "del B\n",
    "print(f'Set B has been deleted')"
   ]
  },
  {
   "cell_type": "markdown",
   "metadata": {},
   "source": [
    "# Sets Exercises: Level 3"
   ]
  },
  {
   "cell_type": "code",
   "execution_count": null,
   "metadata": {},
   "outputs": [],
   "source": [
    "'''age = [22, 19, 24, 25, 26, 24, 25, 24]'''"
   ]
  },
  {
   "cell_type": "code",
   "execution_count": 32,
   "metadata": {},
   "outputs": [
    {
     "name": "stdout",
     "output_type": "stream",
     "text": [
      "{19, 22, 24, 25, 26}\n",
      "The length of age list is: 8\n",
      "The length of age set is: 5\n",
      "Age List length is Greater Than Age set\n"
     ]
    }
   ],
   "source": [
    "# Convert the ages to a set and compare the length of the list and the set, which one is bigger?\n",
    "\n",
    "age = [22, 19, 24, 25, 26, 24, 25, 24]\n",
    "\n",
    "age_set = set(age)\n",
    "print(age_set)\n",
    "\n",
    "''' conpare the length of the list and set'''\n",
    "len_list = len(age)\n",
    "print(f'The length of age list is: {len_list}')\n",
    "len_set = len(age_set)\n",
    "print(f'The length of age set is: {len_set}')\n",
    "\n",
    "if len_list > len_set:\n",
    "    print(f'Age List length is Greater Than Age set')\n",
    "elif len_list < len_set:\n",
    "    print(f'Age set length is Greater Than Age list')\n",
    "else:\n",
    "    print(f'Age list and Age set has same length')"
   ]
  },
  {
   "cell_type": "code",
   "execution_count": null,
   "metadata": {},
   "outputs": [],
   "source": [
    "# Explain the difference between the following data types: string, list, tuple and set\n",
    "\n",
    "'''\n",
    "Strings:\n",
    "A sequence of characters that can include letters, numbers, and special characters. Strings are immutable, meaning they cannot be changed.\n",
    "\n",
    "Lists:\n",
    "A collection of ordered elements that can contain duplicate values. Lists are mutable, meaning they can be modified after they are created.\n",
    "\n",
    "Tuples: \n",
    "A sequence of elements separated by commas and enclosed in parentheses. Tuples are immutable, meaning they cannot be changed after they are created. \n",
    "\n",
    "Set: \n",
    "A collection of unique elements that are unordered and unindexed. Sets are mutable and iterable.\n",
    "'''"
   ]
  },
  {
   "cell_type": "code",
   "execution_count": 33,
   "metadata": {},
   "outputs": [
    {
     "name": "stdout",
     "output_type": "stream",
     "text": [
      "The length of unique words is: 10\n",
      "Unique Words is: {'inspire', 'teacher', 'a', 'people', 'am', 'to', 'teach', 'I', 'love', 'and'}\n"
     ]
    }
   ],
   "source": [
    "'''\n",
    "I am a teacher and I love to inspire and teach people. How many unique words have been used in the sentence? \n",
    "Use the split methods and set to get the unique words.\n",
    "'''\n",
    "\n",
    "sentence = 'I am a teacher and I love to inspire and teach people'\n",
    "'''use split method to split the sentence'''\n",
    "word = sentence.split()\n",
    "'''convert the sentence to sets'''\n",
    "set_word = set(word)\n",
    "'''Find the length of the unique words'''\n",
    "len_word = len(set_word)\n",
    "\n",
    "print(f'The length of unique words is: {len_word}')\n",
    "print(f'Unique Words is: {set_word}')\n",
    "\n"
   ]
  },
  {
   "cell_type": "code",
   "execution_count": null,
   "metadata": {},
   "outputs": [],
   "source": []
  }
 ],
 "metadata": {
  "kernelspec": {
   "display_name": "base",
   "language": "python",
   "name": "python3"
  },
  "language_info": {
   "codemirror_mode": {
    "name": "ipython",
    "version": 3
   },
   "file_extension": ".py",
   "mimetype": "text/x-python",
   "name": "python",
   "nbconvert_exporter": "python",
   "pygments_lexer": "ipython3",
   "version": "3.11.7"
  }
 },
 "nbformat": 4,
 "nbformat_minor": 2
}
