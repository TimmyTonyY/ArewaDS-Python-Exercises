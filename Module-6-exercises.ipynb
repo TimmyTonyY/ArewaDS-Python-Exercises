{
 "cells": [
  {
   "cell_type": "markdown",
   "metadata": {},
   "source": [
    "# Module 6: Dictionaries"
   ]
  },
  {
   "cell_type": "markdown",
   "metadata": {},
   "source": [
    "## What is Dictionaries?\n",
    "\n",
    "Dictionaries are mutable data structures that allow you to store key-value pairs. Dictionary can be created using the dict() constructor or curly braces' {}'."
   ]
  },
  {
   "cell_type": "markdown",
   "metadata": {},
   "source": [
    "# Exercises: Module 6"
   ]
  },
  {
   "cell_type": "code",
   "execution_count": 20,
   "metadata": {},
   "outputs": [
    {
     "name": "stdout",
     "output_type": "stream",
     "text": [
      "{}\n"
     ]
    }
   ],
   "source": [
    "# Create an empty dictionary called dog\n",
    "\n",
    "dog = {}\n",
    "\n",
    "print(dog)"
   ]
  },
  {
   "cell_type": "code",
   "execution_count": 3,
   "metadata": {},
   "outputs": [
    {
     "name": "stdout",
     "output_type": "stream",
     "text": [
      "{'name': 'tommy', 'color': 'gold', 'breed': 'bulldog', 'legs': 4, 'age': '2 year old'}\n"
     ]
    }
   ],
   "source": [
    "# Add name, color, breed, legs, age to the dog dictionary\n",
    "\n",
    "dog = {'name':'tommy', 'color':'gold', 'breed':'bulldog', 'legs':4, 'age': '2 year old'}\n",
    "\n",
    "print(dog)"
   ]
  },
  {
   "cell_type": "code",
   "execution_count": 9,
   "metadata": {},
   "outputs": [
    {
     "name": "stdout",
     "output_type": "stream",
     "text": [
      "{'first_name': 'timileyin', 'last_name': 'anthony', 'gender': 'male', 'age': '25 years old', 'marital_status': 'single', 'skills': ['python', 'SQL'], 'country': 'nigeria', 'city': 'osun', 'address': {'street': 'high way', 'zipcode': '04567'}}\n"
     ]
    }
   ],
   "source": [
    "# Create a student dictionary and add first_name, last_name, gender, age, marital status, \n",
    "# skills, country, city and address as keys for the dictionary\n",
    "\n",
    "student = {\n",
    "    'first_name':'timileyin',\n",
    "    'last_name':'anthony',\n",
    "    'gender':'male',\n",
    "    'age':'25 years old',\n",
    "    'marital_status':'single',\n",
    "    'skills':['python','SQL'],\n",
    "    'country':'nigeria',\n",
    "    'city':'osun',\n",
    "    'address':{\n",
    "        'street':'high way',\n",
    "        'zipcode':'04567'\n",
    "    }\n",
    "}\n",
    "\n",
    "print(student)"
   ]
  },
  {
   "cell_type": "code",
   "execution_count": 10,
   "metadata": {},
   "outputs": [
    {
     "name": "stdout",
     "output_type": "stream",
     "text": [
      "The lengthof student is: 9\n"
     ]
    }
   ],
   "source": [
    "# Get the length of the student dictionary\n",
    "\n",
    "len_student = len(student)\n",
    "print(f'The lengthof student is: {len_student}')"
   ]
  },
  {
   "cell_type": "code",
   "execution_count": 12,
   "metadata": {},
   "outputs": [
    {
     "name": "stdout",
     "output_type": "stream",
     "text": [
      "['python', 'SQL']\n"
     ]
    },
    {
     "data": {
      "text/plain": [
       "list"
      ]
     },
     "execution_count": 12,
     "metadata": {},
     "output_type": "execute_result"
    }
   ],
   "source": [
    "# Get the value of skills and check the data type, it should be a list\n",
    "\n",
    "print(student.get('skills'))\n",
    "type(student.get('skills'))\n"
   ]
  },
  {
   "cell_type": "code",
   "execution_count": 13,
   "metadata": {},
   "outputs": [
    {
     "name": "stdout",
     "output_type": "stream",
     "text": [
      "['excel', 'powerbi']\n"
     ]
    }
   ],
   "source": [
    "# Modify the skills values by adding one or two skills\n",
    "\n",
    "student['skills'] =['excel','powerbi']\n",
    "print(student.get('skills'))\n"
   ]
  },
  {
   "cell_type": "code",
   "execution_count": 14,
   "metadata": {},
   "outputs": [
    {
     "name": "stdout",
     "output_type": "stream",
     "text": [
      "dict_keys(['first_name', 'last_name', 'gender', 'age', 'marital_status', 'skills', 'country', 'city', 'address'])\n"
     ]
    }
   ],
   "source": [
    "# Get the dictionary keys as a list\n",
    "\n",
    "key = student.keys()\n",
    "print(key)"
   ]
  },
  {
   "cell_type": "code",
   "execution_count": 15,
   "metadata": {},
   "outputs": [
    {
     "name": "stdout",
     "output_type": "stream",
     "text": [
      "dict_values(['timileyin', 'anthony', 'male', '25 years old', 'single', ['excel', 'powerbi'], 'nigeria', 'osun', {'street': 'high way', 'zipcode': '04567'}])\n"
     ]
    }
   ],
   "source": [
    "# Get the dictionary values as a list\n",
    "\n",
    "value = student.values()\n",
    "print(value)"
   ]
  },
  {
   "cell_type": "code",
   "execution_count": 17,
   "metadata": {},
   "outputs": [
    {
     "name": "stdout",
     "output_type": "stream",
     "text": [
      "dict_items([('first_name', 'timileyin'), ('last_name', 'anthony'), ('gender', 'male'), ('age', '25 years old'), ('marital_status', 'single'), ('skills', ['excel', 'powerbi']), ('country', 'nigeria'), ('city', 'osun'), ('address', {'street': 'high way', 'zipcode': '04567'})])\n"
     ]
    }
   ],
   "source": [
    "# Change the dictionary to a list of tuples using items() method\n",
    "\n",
    "print(student.items())"
   ]
  },
  {
   "cell_type": "code",
   "execution_count": 18,
   "metadata": {},
   "outputs": [
    {
     "name": "stdout",
     "output_type": "stream",
     "text": [
      "{'first_name': 'timileyin', 'last_name': 'anthony', 'gender': 'male', 'marital_status': 'single', 'skills': ['excel', 'powerbi'], 'country': 'nigeria', 'city': 'osun', 'address': {'street': 'high way', 'zipcode': '04567'}}\n"
     ]
    }
   ],
   "source": [
    "# Delete one of the items in the dictionary\n",
    "\n",
    "student.pop('age')\n",
    "print(student)"
   ]
  },
  {
   "cell_type": "code",
   "execution_count": 19,
   "metadata": {},
   "outputs": [
    {
     "name": "stdout",
     "output_type": "stream",
     "text": [
      "The student dictionaries has been deleted\n"
     ]
    }
   ],
   "source": [
    "# Delete one of the dictionaries\n",
    "\n",
    "del student\n",
    "print('The student dictionaries has been deleted')"
   ]
  },
  {
   "cell_type": "code",
   "execution_count": null,
   "metadata": {},
   "outputs": [],
   "source": []
  }
 ],
 "metadata": {
  "kernelspec": {
   "display_name": "base",
   "language": "python",
   "name": "python3"
  },
  "language_info": {
   "codemirror_mode": {
    "name": "ipython",
    "version": 3
   },
   "file_extension": ".py",
   "mimetype": "text/x-python",
   "name": "python",
   "nbconvert_exporter": "python",
   "pygments_lexer": "ipython3",
   "version": "3.11.7"
  }
 },
 "nbformat": 4,
 "nbformat_minor": 2
}
