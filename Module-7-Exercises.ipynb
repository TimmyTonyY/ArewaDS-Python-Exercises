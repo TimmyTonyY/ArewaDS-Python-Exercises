{
 "cells": [
  {
   "cell_type": "markdown",
   "metadata": {},
   "source": [
    "# Module 7: Conditionals"
   ]
  },
  {
   "cell_type": "markdown",
   "metadata": {},
   "source": [
    "## What is Conditionsls?\n",
    "conditionals are used to perform actions based on certain conditions. They are implemented using the if, elif, and else statements."
   ]
  },
  {
   "cell_type": "markdown",
   "metadata": {},
   "source": [
    "## Conditionals Exercises"
   ]
  },
  {
   "cell_type": "markdown",
   "metadata": {},
   "source": [
    "## Exercises: Level 1"
   ]
  },
  {
   "cell_type": "code",
   "execution_count": 1,
   "metadata": {},
   "outputs": [
    {
     "name": "stdout",
     "output_type": "stream",
     "text": [
      "You are old enough to learn to drive\n"
     ]
    }
   ],
   "source": [
    "'''Get user input using input(“Enter your age: ”). If user is 18 or older, give feedback: You are old enough to drive. \n",
    "If below 18 give feedback to wait for the missing amount of years. Output:\n",
    "\n",
    "Enter your age: 30\n",
    "You are old enough to learn to drive.\n",
    "Output:\n",
    "Enter your age: 15\n",
    "You need 3 more years to learn to drive.\n",
    "'''\n",
    "\n",
    "'''user input'''\n",
    "age = int(input('Enter your age: '))\n",
    "'''conditional statement'''\n",
    "if age >= 18:\n",
    "    print('You are old enough to learn to drive')\n",
    "else:\n",
    "    print('wait for the missing amount of years')\n",
    "\n"
   ]
  },
  {
   "cell_type": "code",
   "execution_count": 2,
   "metadata": {},
   "outputs": [
    {
     "name": "stdout",
     "output_type": "stream",
     "text": [
      "you are 5 years older than me\n"
     ]
    }
   ],
   "source": [
    "'''Compare the values of my_age and your_age using if … else. Who is older (me or you)? \n",
    "Use input(“Enter your age: ”) to get the age as input. \n",
    "You can use a nested condition to print 'year' for 1 year difference in age, 'years' for bigger differences, \n",
    "and a custom text if my_age = your_age. Output:\n",
    "\n",
    "Enter your age: 30\n",
    "You are 5 years older than me.\n",
    "'''\n",
    "your_age = 30\n",
    "'''user input'''\n",
    "my_age = int(input('Enter my age: '))\n",
    "result = your_age - my_age\n",
    "\n",
    "'''Compare the values of my_age and your_age'''\n",
    "if your_age > my_age:\n",
    "    print(f'you are {result} years older than me')\n",
    "elif your_age < my_age:\n",
    "    print('you are not older than me')\n",
    "else:\n",
    "    print('we have same equal age')\n"
   ]
  },
  {
   "cell_type": "code",
   "execution_count": 6,
   "metadata": {},
   "outputs": [
    {
     "name": "stdout",
     "output_type": "stream",
     "text": [
      "4 is greater than  3\n"
     ]
    }
   ],
   "source": [
    "'''Get two numbers from the user using input prompt. \n",
    "If a is greater than b return a is greater than b, if a is less b return a is smaller than b, else a is equal to b. Output:\n",
    "\n",
    "Enter number one: 4\n",
    "Enter number two: 3\n",
    "4 is greater than 3\n",
    "'''\n",
    "\n",
    "'''user input'''\n",
    "a = int(input('Enter your number: '))\n",
    "b = int(input('Enter your number: '))\n",
    "\n",
    "\n",
    "if a > b:\n",
    "    print(f'{a} is greater than  {b}')\n",
    "elif a < b:\n",
    "    print(f'{a} is smaller than {b}')\n",
    "else:\n",
    "    print(f'{a} is equal to {b}')"
   ]
  },
  {
   "cell_type": "markdown",
   "metadata": {},
   "source": [
    "## Exercises: Level 2"
   ]
  },
  {
   "cell_type": "code",
   "execution_count": 7,
   "metadata": {},
   "outputs": [
    {
     "name": "stdout",
     "output_type": "stream",
     "text": [
      "your grade A\n"
     ]
    }
   ],
   "source": [
    "'''Write a code which gives grade to students according to theirs scores:\n",
    "\n",
    "80-100, A\n",
    "70-79, B\n",
    "60-69, C\n",
    "50-59, D\n",
    "0-49, F\n",
    "'''\n",
    "\n",
    "\n",
    "if 0 >= 49:\n",
    "    print('your grade F')\n",
    "elif 50 >= 59:\n",
    "    print('your grade D')\n",
    "elif 60 >= 69:\n",
    "    print('your grade C')\n",
    "elif 70 >=79:\n",
    "    print('your garde B')\n",
    "else:\n",
    "    print('your grade A')\n"
   ]
  },
  {
   "cell_type": "code",
   "execution_count": 8,
   "metadata": {},
   "outputs": [
    {
     "name": "stdout",
     "output_type": "stream",
     "text": [
      "The season is: Winter\n"
     ]
    }
   ],
   "source": [
    "'''\n",
    "Check if the season is Autumn, Winter, Spring or Summer. \n",
    "If the user input is: September, October or November, the season is Autumn. \n",
    "December, January or February, the season is Winter. \n",
    "March, April or May, the season is Spring \n",
    "June, July or August, the season is Summer\n",
    "'''\n",
    "\n",
    "month = input('Enter the month: ')\n",
    "\n",
    "if month in ['September','October','November',]:\n",
    "    season = 'Autumn'\n",
    "elif month in ['December','January','February']:\n",
    "    season = 'Winter'\n",
    "elif month in ['March','April','May']:\n",
    "    season = 'Spring'\n",
    "elif month in ['June','July','August']:\n",
    "    season = 'Summer'\n",
    "else:\n",
    "    season = 'Invalid month'\n",
    "\n",
    "print(f'The season is: {season}')"
   ]
  },
  {
   "cell_type": "code",
   "execution_count": 9,
   "metadata": {},
   "outputs": [
    {
     "name": "stdout",
     "output_type": "stream",
     "text": [
      "fruit add to the list\n",
      "Modified List ['banana', 'orange', 'mango', 'lemon', 'apple']\n"
     ]
    }
   ],
   "source": [
    "'''\n",
    "The following list contains some fruits:\n",
    "\n",
    "fruits = ['banana', 'orange', 'mango', 'lemon']\n",
    "\n",
    "If a fruit doesn't exist in the list add the fruit to the list and print the modified list. \n",
    "If the fruit exists print('That fruit already exist in the list')\n",
    "'''\n",
    "\n",
    "fruits = ['banana', 'orange', 'mango', 'lemon']\n",
    "fruit = input('Enter your Fruit: ')\n",
    "\n",
    "if fruit in fruits:\n",
    "    print('That fruit already exist in the list')\n",
    "else:\n",
    "    fruits.append(fruit)\n",
    "    print('fruit add to the list')\n",
    "    print(f'Modified List {fruits}')"
   ]
  },
  {
   "cell_type": "markdown",
   "metadata": {},
   "source": [
    "## Exercises: Level 3"
   ]
  },
  {
   "cell_type": "code",
   "execution_count": null,
   "metadata": {},
   "outputs": [],
   "source": [
    "'''\n",
    "Here we have a person dictionary. Feel free to modify it!\n",
    "        person={\n",
    "    'first_name': 'Asabeneh',\n",
    "    'last_name': 'Yetayeh',\n",
    "    'age': 250,\n",
    "    'country': 'Finland',\n",
    "    'is_marred': True,\n",
    "    'skills': ['JavaScript', 'React', 'Node', 'MongoDB', 'Python'],\n",
    "    'address': {\n",
    "        'street': 'Space street',\n",
    "        'zipcode': '02210'\n",
    "    }\n",
    "    }\n",
    "\n",
    "\n",
    " 1. Check if the person dictionary has skills key, if so print out the middle skill in the skills list.\n",
    " 2. Check if the person dictionary has skills key, if so check if the person has 'Python' skill and print out the result.\n",
    " 3. If a person skills has only JavaScript and React, print('He is a front end developer'), \n",
    " if the person skills has Node, Python, MongoDB, print('He is a backend developer'), \n",
    " if the person skills has React, Node and MongoDB, Print('He is a fullstack developer'), \n",
    " else print('unknown title') - for more accurate results more conditions can be nested!\n",
    " 4. If the person is married and if he lives in Finland, print the information in the following format:\n",
    " \n",
    " '''"
   ]
  },
  {
   "cell_type": "code",
   "execution_count": 17,
   "metadata": {},
   "outputs": [],
   "source": [
    "person={\n",
    "    'first_name': 'Asabeneh',\n",
    "    'last_name': 'Yetayeh',\n",
    "    'age': 250,\n",
    "    'country': 'Finland',\n",
    "    'is_marred': True,\n",
    "    'skills': ['JavaScript', 'React', 'Node', 'MongoDB', 'Python'],\n",
    "    'address': {\n",
    "        'street': 'Space street',\n",
    "        'zipcode': '02210'\n",
    "    }\n",
    "    }\n"
   ]
  },
  {
   "cell_type": "code",
   "execution_count": 20,
   "metadata": {},
   "outputs": [
    {
     "name": "stdout",
     "output_type": "stream",
     "text": [
      "Middle skill: Node\n"
     ]
    }
   ],
   "source": [
    "# Check if the person dictionary has skills key, if so print out the middle skill in the skills list.\n",
    "\n",
    "if 'skills' in person:\n",
    "    skills = person['skills']\n",
    "    print(f'Middle skill: {skills[2]}')"
   ]
  },
  {
   "cell_type": "code",
   "execution_count": 21,
   "metadata": {},
   "outputs": [
    {
     "name": "stdout",
     "output_type": "stream",
     "text": [
      "It has Python: True\n"
     ]
    }
   ],
   "source": [
    "# Check if the person dictionary has skills key, if so check if the person has 'Python' skill and print out the result\n",
    "\n",
    "if 'skills' in person:\n",
    "    p_y = 'Python' in person['skills']\n",
    "    print(f'It has Python: {p_y}')\n",
    "else:\n",
    "    print('dont have have python skills')"
   ]
  },
  {
   "cell_type": "code",
   "execution_count": 22,
   "metadata": {},
   "outputs": [
    {
     "name": "stdout",
     "output_type": "stream",
     "text": [
      "He is a backend developer\n"
     ]
    }
   ],
   "source": [
    "'''\n",
    "3. If a person skills has only JavaScript and React, print('He is a front end developer'), \n",
    " if the person skills has Node, Python, MongoDB, print('He is a backend developer'), \n",
    " if the person skills has React, Node and MongoDB, Print('He is a fullstack developer'), \n",
    " else print('unknown title') - for more accurate results more conditions can be nested!\n",
    " '''\n",
    "\n",
    "if 'skills' in person:\n",
    "    skills = person['skills']\n",
    "    if skills == {'JavaScript','React'}:\n",
    "        print('He is a front end developer')\n",
    "    elif {'Node', 'Python', 'MongoDB'}.issubset(skills):\n",
    "        print('He is a backend developer')\n",
    "    elif {'React', 'Node', 'MongoDB'}.issubset(skills):\n",
    "        print('He is a fullstack developer')\n",
    "    else:\n",
    "        print(\"Unknown title\")\n"
   ]
  },
  {
   "cell_type": "code",
   "execution_count": 23,
   "metadata": {},
   "outputs": [
    {
     "name": "stdout",
     "output_type": "stream",
     "text": [
      "Asabeneh Yetayeh lives in Finland. He is married.\n"
     ]
    }
   ],
   "source": [
    "# If the person is married and if he lives in Finland, print the information in the following format\n",
    "\n",
    "if person['is_marred'] and person['country'] == 'Finland':\n",
    "    print(\n",
    "        f\"{person['first_name']} {person['last_name']} lives in {person['country']}. \"\n",
    "        f\"He is {'married' if person['is_marred'] else 'not married'}.\"\n",
    "    )"
   ]
  },
  {
   "cell_type": "code",
   "execution_count": null,
   "metadata": {},
   "outputs": [],
   "source": []
  }
 ],
 "metadata": {
  "kernelspec": {
   "display_name": "base",
   "language": "python",
   "name": "python3"
  },
  "language_info": {
   "codemirror_mode": {
    "name": "ipython",
    "version": 3
   },
   "file_extension": ".py",
   "mimetype": "text/x-python",
   "name": "python",
   "nbconvert_exporter": "python",
   "pygments_lexer": "ipython3",
   "version": "3.11.7"
  }
 },
 "nbformat": 4,
 "nbformat_minor": 2
}
